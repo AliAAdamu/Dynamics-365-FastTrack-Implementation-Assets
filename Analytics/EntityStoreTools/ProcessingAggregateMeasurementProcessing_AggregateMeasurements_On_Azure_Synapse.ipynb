{
  "cells": [
    {
      "cell_type": "markdown",
      "source": [
        "## Install Dependencies"
      ],
      "metadata": {
        "nteract": {
          "transient": {
            "deleting": false
          }
        }
      }
    },
    {
      "cell_type": "code",
      "source": [
        "#r \"nuget:Azure.Identity,1.1.1\"\r\n",
        "#r \"nuget:Azure.Storage.Blobs,12.6.0\""
      ],
      "outputs": [
        {
          "output_type": "display_data",
          "data": {
            "application/vnd.livy.statement-meta+json": {
              "spark_pool": "patc6sx8767zd5k",
              "session_id": 13,
              "statement_id": 1,
              "state": "finished",
              "livy_statement_state": "available",
              "queued_time": "2021-07-01T22:00:26.0401048Z",
              "session_start_time": "2021-07-01T22:00:26.0792194Z",
              "execution_start_time": "2021-07-01T22:02:50.5682671Z",
              "execution_finish_time": "2021-07-01T22:02:56.8114375Z"
            },
            "text/plain": "StatementMeta(patc6sx8767zd5k, 13, 1, Finished, Available)"
          },
          "metadata": {}
        },
        {
          "output_type": "stream",
          "name": "stdout",
          "text": [
            "Installing package Azure.Identity, version 1.1.1...Installing package Azure.Storage.Blobs, version 12.6.0...Installed package Azure.Identity version 1.1.1Installed package Azure.Storage.Blobs version 12.6.0"
          ]
        }
      ],
      "execution_count": 1,
      "metadata": {
        "jupyter": {
          "source_hidden": false,
          "outputs_hidden": false
        },
        "nteract": {
          "transient": {
            "deleting": false
          }
        },
        "collapsed": true
      }
    },
    {
      "cell_type": "markdown",
      "source": [
        "## Configuration"
      ],
      "metadata": {
        "nteract": {
          "transient": {
            "deleting": false
          }
        }
      }
    },
    {
      "cell_type": "code",
      "source": [
        "dynamic dataLakeConnectionInfo = new {\r\n",
        "    StorageAccountName = \"\",\r\n",
        "    Container = \"\",\r\n",
        "    EntityStoreMetadataPath = \"\",\r\n",
        "    TenantId = \"\",\r\n",
        "    AppId = \"\",\r\n",
        "    AppKey = \"\"\r\n",
        "};\r\n",
        "\r\n",
        "dynamic sqlPoolConnectionInfo = new {\r\n",
        "    PoolName = \"\",\r\n",
        "    Schema = \"\",\r\n",
        "    Database = \"\",\r\n",
        "    Username = \"\",\r\n",
        "    Password = \"\",\r\n",
        "};\r\n",
        "\r\n",
        "var sqlPoolConnectionString = $\"jdbc:sqlserver://{sqlPoolConnectionInfo.PoolName}.sql.azuresynapse.net:1433;database={sqlPoolConnectionInfo.Database};user={sqlPoolConnectionInfo.Username};password={sqlPoolConnectionInfo.Password};encrypt=true;trustServerCertificate=true;hostNameInCertificate=*.sql.azuresynapse.net;loginTimeout=30;\";\r\n",
        "\r\n"
      ],
      "outputs": [
        {
          "output_type": "display_data",
          "data": {
            "application/vnd.livy.statement-meta+json": {
              "spark_pool": "patc6sx8767zd5k",
              "session_id": 13,
              "statement_id": 2,
              "state": "finished",
              "livy_statement_state": "available",
              "queued_time": "2021-07-01T22:05:56.7406728Z",
              "session_start_time": null,
              "execution_start_time": "2021-07-01T22:05:56.958378Z",
              "execution_finish_time": "2021-07-01T22:05:59.0180504Z"
            },
            "text/plain": "StatementMeta(patc6sx8767zd5k, 13, 2, Finished, Available)"
          },
          "metadata": {}
        },
        {
          "output_type": "stream",
          "name": "stdout",
          "text": []
        }
      ],
      "execution_count": 2,
      "metadata": {
        "jupyter": {
          "source_hidden": false,
          "outputs_hidden": false
        },
        "nteract": {
          "transient": {
            "deleting": false
          }
        },
        "collapsed": true
      }
    },
    {
      "cell_type": "markdown",
      "source": [
        "## Dynamics Entity Store SDK"
      ],
      "metadata": {
        "nteract": {
          "transient": {
            "deleting": false
          }
        }
      }
    },
    {
      "cell_type": "code",
      "source": [
        "using System.IO;\r\n",
        "using System.IO.Compression;\r\n",
        "using Newtonsoft.Json;\r\n",
        "using Newtonsoft.Json.Linq;\r\n",
        "using Microsoft.Spark;\r\n",
        "\r\n",
        "class EntityStoreSdk {\r\n",
        "\r\n",
        "    private string SqlConnectionString {get; set;}\r\n",
        "    private Microsoft.Spark.Sql.SparkSession SparkSession {get; set;}\r\n",
        "\r\n",
        "    public EntityStoreSdk(string sqlConnectionString, Microsoft.Spark.Sql.SparkSession sparkSession)\r\n",
        "    {\r\n",
        "        this.SqlConnectionString = sqlConnectionString;\r\n",
        "        this.SparkSession = sparkSession;\r\n",
        "    }\r\n",
        "\r\n",
        "    public JObject ReadMetadata(MemoryStream memoryStream)\r\n",
        "    {\r\n",
        "        using (var zip = new ZipArchive(memoryStream, ZipArchiveMode.Read))\r\n",
        "        {\r\n",
        "            // Finds the root measurement metadata\r\n",
        "            var entryList = zip.Entries.ToList();\r\n",
        "            var measurementEntry = entryList.FirstOrDefault(e => e.FullName == \"measurement.json\");\r\n",
        "\r\n",
        "            if (measurementEntry == null)\r\n",
        "            {\r\n",
        "                throw new Exception($\"Cannot find measurement metadata file 'measurement.json' in the root folder of the file \");\r\n",
        "            }\r\n",
        "\r\n",
        "            using (var stream = measurementEntry.Open())\r\n",
        "            {\r\n",
        "                var serializer = new JsonSerializer();\r\n",
        "\r\n",
        "                using (var sr = new StreamReader(stream))\r\n",
        "                using (var jsonTextReader = new JsonTextReader(sr))\r\n",
        "                {\r\n",
        "                    dynamic measurementMetadata = JObject.Load(jsonTextReader);\r\n",
        "\r\n",
        "                    Console.WriteLine($\"Processing measurement '{measurementMetadata.Label}' ({measurementMetadata.Name})\");\r\n",
        "\r\n",
        "                    return measurementMetadata;\r\n",
        "                }\r\n",
        "            }\r\n",
        "        }\r\n",
        "\r\n",
        "        throw new Exception(\"Could not process the aggregate measurement.\");\r\n",
        "    }\r\n",
        "\r\n",
        "    public DataFrame QueryTable(string query)\r\n",
        "    {\r\n",
        "        var df = this.SparkSession.Read()\r\n",
        "              .Format(\"com.microsoft.sqlserver.jdbc.spark\")\r\n",
        "              .Option(\"url\", this.SqlConnectionString)\r\n",
        "              .Option(\"driver\", \"com.microsoft.sqlserver.jdbc.SQLServerDriver\")\r\n",
        "              .Option(\"query\", query)   // use dbtable for the entire table\r\n",
        "              .Option(\"isolationLevel\", \"READ_UNCOMMITTED\")\r\n",
        "              .Load();\r\n",
        "\r\n",
        "        return df;\r\n",
        "    }\r\n",
        "}"
      ],
      "outputs": [
        {
          "output_type": "display_data",
          "data": {
            "application/vnd.livy.statement-meta+json": {
              "spark_pool": "patc6sx8767zd5k",
              "session_id": 13,
              "statement_id": 15,
              "state": "finished",
              "livy_statement_state": "available",
              "queued_time": "2021-07-01T22:10:09.8568477Z",
              "session_start_time": null,
              "execution_start_time": "2021-07-01T22:10:09.9776829Z",
              "execution_finish_time": "2021-07-01T22:10:12.0311317Z"
            },
            "text/plain": "StatementMeta(patc6sx8767zd5k, 13, 15, Finished, Available)"
          },
          "metadata": {}
        },
        {
          "output_type": "stream",
          "name": "stdout",
          "text": []
        }
      ],
      "execution_count": 15,
      "metadata": {
        "jupyter": {
          "source_hidden": false,
          "outputs_hidden": false
        },
        "nteract": {
          "transient": {
            "deleting": false
          }
        },
        "collapsed": true
      }
    },
    {
      "cell_type": "markdown",
      "source": [
        "## Load Aggregate Measurement Metadata"
      ],
      "metadata": {
        "nteract": {
          "transient": {
            "deleting": false
          }
        }
      }
    },
    {
      "cell_type": "code",
      "source": [
        "using global::Azure.Identity;\r\n",
        "using global::Azure.Storage.Blobs;\r\n",
        "\r\n",
        "var entityStoreSdk = new EntityStoreSdk(sqlPoolConnectionString, spark);\r\n",
        "JObject measureMetadata = null;\r\n",
        "\r\n",
        "var tokenCredential = new ClientSecretCredential(\r\n",
        "                dataLakeConnectionInfo.TenantId,\r\n",
        "                dataLakeConnectionInfo.AppId,\r\n",
        "                dataLakeConnectionInfo.AppKey);\r\n",
        "\r\n",
        "var blobEndpoint = new Uri($\"https://{dataLakeConnectionInfo.StorageAccountName}.dfs.core.windows.net\");\r\n",
        "\r\n",
        "BlobServiceClient blobServiceClient = new BlobServiceClient(blobEndpoint, tokenCredential);\r\n",
        "BlobContainerClient containerClient = blobServiceClient.GetBlobContainerClient(dataLakeConnectionInfo.Container);\r\n",
        "\r\n",
        "BlobClient blobClient = containerClient.GetBlobClient(dataLakeConnectionInfo.EntityStoreMetadataPath);\r\n",
        "if (await blobClient.ExistsAsync())\r\n",
        "{\r\n",
        "      Console.WriteLine(\"Downloading Entity Store Metadata...\");\r\n",
        "\r\n",
        "      using (var memoryStream = new MemoryStream())\r\n",
        "      {\r\n",
        "            blobClient.DownloadTo(memoryStream);\r\n",
        "            measureMetadata = entityStoreSdk.ReadMetadata(memoryStream);\r\n",
        "      }\r\n",
        "}"
      ],
      "outputs": [
        {
          "output_type": "display_data",
          "data": {
            "application/vnd.livy.statement-meta+json": {
              "spark_pool": "patc6sx8767zd5k",
              "session_id": 13,
              "statement_id": 16,
              "state": "finished",
              "livy_statement_state": "available",
              "queued_time": "2021-07-01T22:10:14.4541593Z",
              "session_start_time": null,
              "execution_start_time": "2021-07-01T22:10:14.5558118Z",
              "execution_finish_time": "2021-07-01T22:10:16.617103Z"
            },
            "text/plain": "StatementMeta(patc6sx8767zd5k, 13, 16, Finished, Available)"
          },
          "metadata": {}
        },
        {
          "output_type": "stream",
          "name": "stdout",
          "text": [
            "Downloading Entity Store Metadata...\n",
            "Processing measurement 'RLX BI Ledger Cube' (RLXBILedgerCube)\n"
          ]
        }
      ],
      "execution_count": 16,
      "metadata": {}
    },
    {
      "cell_type": "code",
      "source": [
        "display(measureMetadata[\"MeasureGroups\"]);"
      ],
      "outputs": [
        {
          "output_type": "display_data",
          "data": {
            "application/vnd.livy.statement-meta+json": {
              "spark_pool": "patc6sx8767zd5k",
              "session_id": 13,
              "statement_id": 18,
              "state": "finished",
              "livy_statement_state": "available",
              "queued_time": "2021-07-01T22:10:32.13214Z",
              "session_start_time": null,
              "execution_start_time": "2021-07-01T22:10:32.2580074Z",
              "execution_finish_time": "2021-07-01T22:10:34.3226268Z"
            },
            "text/plain": "StatementMeta(patc6sx8767zd5k, 13, 18, Finished, Available)"
          },
          "metadata": {}
        },
        {
          "output_type": "stream",
          "name": "stdout",
          "text": [
            "[{\"Name\":\"BudgetRegisterEntry\",\"Table\":\"BudgetRegisterEntryEntity\",\"Attributes\":[{\"Name\":\"AmountType\",\"NameField\":\"AmountType\",\"KeyFields\":[{\"DimensionField\":\"AmountType\"}]},{\"Name\":\"BudgetCode\",\"NameField\":\"BudgetCode\",\"KeyFields\":[{\"DimensionField\":\"BudgetCode\"}]},{\"Name\":\"BudgetType\",\"NameField\":\"BudgetType\",\"KeyFields\":[{\"DimensionField\":\"BudgetType\"}]},{\"Name\":\"Comment\",\"NameField\":\"Comment\",\"KeyFields\":[{\"DimensionField\":\"Comment\"}]},{\"Name\":\"EntryNumber\",\"NameField\":\"EntryNumber\",\"KeyFields\":[{\"DimensionField\":\"EntryNumber\"}]},{\"Name\":\"TransactionStatus\",\"NameField\":\"RLXTransactionStatus\",\"KeyFields\":[{\"DimensionField\":\"RLXTransactionStatus\"}]}],\"CalculatedMeasures\":[],\"Dimensions\":[{\"Name\":\"BudgetModel\",\"DimensionName\":\"RLXBIBudgetModelTableDim\",\"UseTableRelations\":0,\"DimensionRelations\":[{\"Name\":\"RLXBIBudgetModelView\",\"DimensionAttribute\":\"PBIKey\",\"Constraints\":[{\"Name\":\"RLXBudgetModelPBIKey\",\"Field\":\"PBIKey\",\"RelatedField\":\"RLXBudgetModelPBIKey\"}]}]},{\"Name\":\"Company\",\"DimensionName\":\"Company\",\"DimensionRelations\":[{\"Name\":\"Company\",\"DimensionAttribute\":\"Company\",\"Constraints\":[{\"Name\":\"LegalEntityId\",\"Field\":\"id\",\"RelatedField\":\"LegalEntityId\"}]}]},{\"Name\":\"Currency\",\"DimensionName\":\"Currency\",\"UseTableRelations\":0,\"DimensionRelations\":[{\"Name\":\"BICurrencyView\",\"DimensionAttribute\":\"Currency\",\"Constraints\":[{\"Name\":\"CurrencyCode\",\"Field\":\"CurrencyCode\",\"RelatedField\":\"CurrencyCode\"}]}]},{\"Name\":\"MainAccount\",\"DimensionName\":\"RLXBIMainAccountDim\",\"UseTableRelations\":0,\"DimensionRelations\":[{\"Name\":\"RLXBIMainAccountView\",\"DimensionAttribute\":\"MainAccountRecId\",\"Constraints\":[{\"Name\":\"RLXMainAccountKey\",\"Field\":\"MainAccountRecId\",\"RelatedField\":\"RLXMainAccountKey\"}]}]},{\"Name\":\"PostingDate\",\"DimensionName\":\"RLXBIDateDim\",\"UseTableRelations\":0,\"DimensionRelations\":[{\"Name\":\"RLXBIDateDimensionValueView\",\"DimensionAttribute\":\"Date_\",\"Constraints\":[{\"Name\":\"Date\",\"Field\":\"BIDate\",\"RelatedField\":\"Date\"}]}]},{\"Name\":\"Brand\",\"DimensionName\":\"RLXBIBrand\",\"UseTableRelations\":0,\"DimensionRelations\":[{\"Name\":\"RLXBIBrandView\",\"DimensionAttribute\":\"Key\",\"Constraints\":[{\"Name\":\"RLXBrandKey\",\"Field\":\"Key\",\"RelatedField\":\"RLXBrandKey\"}]}]},{\"Name\":\"CostCentre\",\"DimensionName\":\"RLXBICostCentre\",\"UseTableRelations\":0,\"DimensionRelations\":[{\"Name\":\"RLXBICostCentreView\",\"DimensionAttribute\":\"Key\",\"Constraints\":[{\"Name\":\"RLXCostCentreKey\",\"Field\":\"Key\",\"RelatedField\":\"RLXCostCentreKey\"}]}]},{\"Name\":\"Employee\",\"DimensionName\":\"RLXBIEmployee\",\"UseTableRelations\":0,\"DimensionRelations\":[{\"Name\":\"RLXBIEmployeeView\",\"DimensionAttribute\":\"Key\",\"Constraints\":[{\"Name\":\"RLXEmployeeKey\",\"Field\":\"Key\",\"RelatedField\":\"RLXEmployeeKey\"}]}]},{\"Name\":\"Interco\",\"DimensionName\":\"RLXBIInterco\",\"UseTableRelations\":0,\"DimensionRelations\":[{\"Name\":\"RLXBIIntercoView\",\"DimensionAttribute\":\"Key\",\"Constraints\":[{\"Name\":\"RLXIntercoKey\",\"Field\":\"Key\",\"RelatedField\":\"RLXIntercoKey\"}]}]},{\"Name\":\"InternalOrder\",\"DimensionName\":\"RLXBIInternalOrder\",\"UseTableRelations\":0,\"DimensionRelations\":[{\"Name\":\"RLXBIInternalOrderView\",\"DimensionAttribute\":\"Key\",\"Constraints\":[{\"Name\":\"RLXInternalOrderKey\",\"Field\":\"Key\",\"RelatedField\":\"RLXInternalOrderKey\"}]}]},{\"Name\":\"Nature\",\"DimensionName\":\"RLXBINature\",\"UseTableRelations\":0,\"DimensionRelations\":[{\"Name\":\"RLXBINatureView\",\"DimensionAttribute\":\"Key\",\"Constraints\":[{\"Name\":\"RLXNatureKey\",\"Field\":\"Key\",\"RelatedField\":\"RLXNatureKey\"}]}]},{\"Name\":\"Section\",\"DimensionName\":\"RLXBISection\",\"UseTableRelations\":0,\"DimensionRelations\":[{\"Name\":\"RLXBISectionView\",\"DimensionAttribute\":\"Key\",\"Constraints\":[{\"Name\":\"RLXSectionKey\",\"Field\":\"Key\",\"RelatedField\":\"RLXSectionKey\"}]}]},{\"Name\":\"Dimension1\",\"DimensionName\":\"RLXBIDimension1\",\"UseTableRelations\":0,\"DimensionRelations\":[{\"Name\":\"RLXBIDimension1View\",\"DimensionAttribute\":\"Key\",\"Constraints\":[{\"Name\":\"RLXDimension1Key\",\"Field\":\"Key\",\"RelatedField\":\"RLXDimension1Key\"}]}]},{\"Name\":\"Dimension2\",\"DimensionName\":\"RLXBIDimension2\",\"UseTableRelations\":0,\"DimensionRelations\":[{\"Name\":\"RLXBIDimension2View\",\"DimensionAttribute\":\"Key\",\"Constraints\":[{\"Name\":\"RLXDimension2Key\",\"Field\":\"Key\",\"RelatedField\":\"RLXDimension2Key\"}]}]},{\"Name\":\"Dimension3\",\"DimensionName\":\"RLXBIDimension3\",\"UseTableRelations\":0,\"DimensionRelations\":[{\"Name\":\"RLXBIDimension3View\",\"DimensionAttribute\":\"Key\",\"Constraints\":[{\"Name\":\"RLXDimension3Key\",\"Field\":\"Key\",\"RelatedField\":\"RLXDimension3Key\"}]}]},{\"Name\":\"Dimension4\",\"DimensionName\":\"RLXBIDimension4\",\"UseTableRelations\":0,\"DimensionRelations\":[{\"Name\":\"RLXBIDimension4View\",\"DimensionAttribute\":\"Key\",\"Constraints\":[{\"Name\":\"RLXDimension4Key\",\"Field\":\"Key\",\"RelatedField\":\"RLXDimension4Key\"}]}]},{\"Name\":\"Dimension5\",\"DimensionName\":\"RLXBIDimension5\",\"UseTableRelations\":0,\"DimensionRelations\":[{\"Name\":\"RLXBIDimension5View\",\"DimensionAttribute\":\"Key\",\"Constraints\":[{\"Name\":\"RLXDimension5Key\",\"Field\":\"Key\",\"RelatedField\":\"RLXDimension5Key\"}]}]},{\"Name\":\"Dimension6\",\"DimensionName\":\"RLXBIDimension6\",\"UseTableRelations\":0,\"DimensionRelations\":[{\"Name\":\"RLXBIDimension6View\",\"DimensionAttribute\":\"Key\",\"Constraints\":[{\"Name\":\"RLXDimension6Key\",\"Field\":\"Key\",\"RelatedField\":\"RLXDimension6Key\"}]}]},{\"Name\":\"Dimension7\",\"DimensionName\":\"RLXBIDimension7\",\"UseTableRelations\":0,\"DimensionRelations\":[{\"Name\":\"RLXBIDimension7View\",\"DimensionAttribute\":\"Key\",\"Constraints\":[{\"Name\":\"RLXDimension7Key\",\"Field\":\"Key\",\"RelatedField\":\"RLXDimension7Key\"}]}]},{\"Name\":\"Dimension8\",\"DimensionName\":\"RLXBIDimension8\",\"UseTableRelations\":0,\"DimensionRelations\":[{\"Name\":\"RLXBIDimension8View\",\"DimensionAttribute\":\"Key\",\"Constraints\":[{\"Name\":\"RLXDimension8Key\",\"Field\":\"Key\",\"RelatedField\":\"RLXDimension8Key\"}]}]},{\"Name\":\"Dimension9\",\"DimensionName\":\"RLXBIDimension9\",\"UseTableRelations\":0,\"DimensionRelations\":[{\"Name\":\"RLXBIDimension9View\",\"DimensionAttribute\":\"Key\",\"Constraints\":[{\"Name\":\"RLXDimension9Key\",\"Field\":\"Key\",\"RelatedField\":\"RLXDimension9Key\"}]}]},{\"Name\":\"Dimension10\",\"DimensionName\":\"RLXBIDimension10\",\"UseTableRelations\":0,\"DimensionRelations\":[{\"Name\":\"RLXBIDimension10View\",\"DimensionAttribute\":\"Key\",\"Constraints\":[{\"Name\":\"RLXDimension10Key\",\"Field\":\"Key\",\"RelatedField\":\"RLXDimension10Key\"}]}]}],\"Measures\":[{\"Name\":\"AccountingCurrencyAmount\",\"Field\":\"AccountingCurrencyAmount\",\"DefaultAggregate\":0},{\"Name\":\"Price\",\"Field\":\"Price\",\"DefaultAggregate\":0},{\"Name\":\"Quantity\",\"Field\":\"Quantity\",\"DefaultAggregate\":0},{\"Name\":\"TransactionCurrencyAmount\",\"Field\":\"TransactionCurrencyAmount\",\"DefaultAggregate\":0}]},{\"Name\":\"BudgetTransactions\",\"Table\":\"RLXBIBudgetTransLineView\",\"Attributes\":[{\"Name\":\"CurrencyCode\",\"NameField\":\"CurrencyCode\",\"KeyFields\":[{\"DimensionField\":\"CurrencyCode\"}]},{\"Name\":\"TransDate\",\"NameField\":\"TransDate\",\"KeyFields\":[{\"DimensionField\":\"TransDate\"}]}],\"CalculatedMeasures\":[],\"Dimensions\":[{\"Name\":\"BudgetModel\",\"DimensionName\":\"RLXBIBudgetModelTableDim\",\"UseTableRelations\":0,\"DimensionRelations\":[{\"Name\":\"RLXBIBudgetModelView\",\"DimensionAttribute\":\"PBIKey\",\"Constraints\":[{\"Name\":\"BudgetModelPBIKey\",\"Field\":\"PBIKey\",\"RelatedField\":\"BudgetModelPBIKey\"}]}]},{\"Name\":\"Currency\",\"DimensionName\":\"Currency\",\"UseTableRelations\":0,\"DimensionRelations\":[{\"Name\":\"BICurrencyView\",\"DimensionAttribute\":\"Currency\",\"Constraints\":[{\"Name\":\"CurrencyCode\",\"Field\":\"CurrencyCode\",\"RelatedField\":\"CurrencyCode\"}]}]},{\"Name\":\"PostingDate\",\"DimensionName\":\"RLXBIDateDim\",\"DimensionRelations\":[{\"Name\":\"RLXBIDateDimensionValueView\",\"DimensionAttribute\":\"Date_\",\"Constraints\":[{\"Name\":\"TransDate\",\"Field\":\"BIDate\",\"RelatedField\":\"TransDate\"}]}]}],\"Measures\":[{\"Name\":\"BudgetAmountCur\",\"Field\":\"AmountCur\",\"DefaultAggregate\":0},{\"Name\":\"BudgetAmountMST\",\"Field\":\"AmountMST\",\"DefaultAggregate\":0}]},{\"Name\":\"GeneralJournalAccountEntry\",\"Table\":\"RLXBIGeneralJournalAccEntryView\",\"Label\":\"RLX BI Ledger Cube\",\"Attributes\":[{\"Name\":\"CustInvoice\",\"NameField\":\"CustInvoice\",\"KeyFields\":[{\"DimensionField\":\"CustInvoice\"}]},{\"Name\":\"DataArea\",\"NameField\":\"DataArea\",\"KeyFields\":[{\"DimensionField\":\"DataArea\"}]},{\"Name\":\"Description\",\"NameField\":\"Text\",\"KeyFields\":[{\"DimensionField\":\"Text\"}]},{\"Name\":\"IsCredit\",\"NameField\":\"IsCredit\",\"KeyFields\":[{\"DimensionField\":\"IsCredit\"}]},{\"Name\":\"JournalNumber\",\"NameField\":\"JournalNumber\",\"KeyFields\":[{\"DimensionField\":\"JournalNumber\"}]},{\"Name\":\"PostingLayer\",\"NameField\":\"PostingLayer\",\"KeyFields\":[{\"DimensionField\":\"PostingLayer\"}]},{\"Name\":\"PostingType\",\"NameField\":\"PostingType\",\"KeyFields\":[{\"DimensionField\":\"PostingType\"}]},{\"Name\":\"VendInvoice\",\"NameField\":\"VendInvoice\",\"KeyFields\":[{\"DimensionField\":\"VendInvoice\"}]},{\"Name\":\"Voucher\",\"NameField\":\"SubledgerVoucher\",\"KeyFields\":[{\"DimensionField\":\"SubledgerVoucher\"}]}],\"CalculatedMeasures\":[],\"Dimensions\":[{\"Name\":\"AccountingDate\",\"DimensionName\":\"RLXBIDateDim\",\"DimensionRelations\":[{\"Name\":\"RLXBIDateDimensionValueView\",\"DimensionAttribute\":\"Date_\",\"Constraints\":[{\"Name\":\"AccountingDate\",\"Field\":\"BIDate\",\"RelatedField\":\"AccountingDate\"}]}]},{\"Name\":\"Currency\",\"DimensionName\":\"Currency\",\"UseTableRelations\":0,\"DimensionRelations\":[{\"Name\":\"BICurrencyView\",\"DimensionAttribute\":\"Currency\",\"Constraints\":[{\"Name\":\"TransactionCurrencyCode\",\"Field\":\"CurrencyCode\",\"RelatedField\":\"TransactionCurrencyCode\"}]}]},{\"Name\":\"Customer\",\"DimensionName\":\"RLXBICustTableDim\",\"UseTableRelations\":0,\"DimensionRelations\":[{\"Name\":\"RLXBICustTableView\",\"DimensionAttribute\":\"PBIKey\",\"Constraints\":[{\"Name\":\"CustomerPBIKey\",\"Field\":\"PBIKey\",\"RelatedField\":\"CustomerPBIKey\"}]}]},{\"Name\":\"DocumentDate\",\"DimensionName\":\"RLXBIDateDim\",\"UseTableRelations\":0,\"DimensionRelations\":[{\"Name\":\"RLXBIDateDimensionValueView\",\"DimensionAttribute\":\"Date_\",\"Constraints\":[{\"Name\":\"DocumentDate\",\"Field\":\"BIDate\",\"RelatedField\":\"DocumentDate\"}]}]},{\"Name\":\"JournalCategory\",\"DimensionName\":\"RLXBIEnumLedgerTransTypeDim\",\"UseTableRelations\":0,\"DimensionRelations\":[{\"Name\":\"RLXBIEnumLedgerTransTypeView\",\"DimensionAttribute\":\"EnumItemValue\",\"Constraints\":[{\"Name\":\"JournalCategory\",\"Field\":\"EnumItemValue\",\"RelatedField\":\"JournalCategory\"}]}]},{\"Name\":\"MainAccount\",\"DimensionName\":\"RLXBIMainAccountDim\",\"UseTableRelations\":0,\"DimensionRelations\":[{\"Name\":\"RLXBIMainAccountView\",\"DimensionAttribute\":\"MainAccountRecId\",\"Constraints\":[{\"Name\":\"MainAccount\",\"Field\":\"MainAccountRecId\",\"RelatedField\":\"MainAccount\"}]}]},{\"Name\":\"PeriodType\",\"DimensionName\":\"RLXBIEnumFiscalPeriodTypeDim\",\"UseTableRelations\":0,\"DimensionRelations\":[{\"Name\":\"RLXBIEnumFiscalPeriodTypeView\",\"DimensionAttribute\":\"EnumItemValue\",\"Constraints\":[{\"Name\":\"PeriodType\",\"Field\":\"EnumItemValue\",\"RelatedField\":\"PeriodType\"}]}]},{\"Name\":\"PostingType\",\"DimensionName\":\"RLXBIEnumPostingTypeDim\",\"DimensionRelations\":[{\"Name\":\"RLXBIEnumPostingTypeView\",\"DimensionAttribute\":\"EnumItemValue\",\"Constraints\":[{\"Name\":\"PostingType\",\"Field\":\"EnumItemValue\",\"RelatedField\":\"PostingType\"}]}]},{\"Name\":\"Vendor\",\"DimensionName\":\"RLXBIVendTableDim\",\"UseTableRelations\":0,\"DimensionRelations\":[{\"Name\":\"RLXBIVendTableView\",\"DimensionAttribute\":\"PBIKey\",\"Constraints\":[{\"Name\":\"VendorPBIKey\",\"Field\":\"PBIKey\",\"RelatedField\":\"VendorPBIKey\"}]}]},{\"Name\":\"Voucher\",\"DimensionName\":\"RLXBIGeneralJournalEntryVoucherDim\",\"DimensionRelations\":[{\"Name\":\"RLXBIGeneralJournalEntryVoucherView\",\"DimensionAttribute\":\"Voucher\",\"Constraints\":[{\"Name\":\"SubledgerVoucher\",\"Field\":\"Voucher\",\"RelatedField\":\"SubledgerVoucher\"}]}]},{\"Name\":\"Brand\",\"DimensionName\":\"RLXBIBrand\",\"UseTableRelations\":0,\"DimensionRelations\":[{\"Name\":\"RLXBIBrandView\",\"DimensionAttribute\":\"Key\",\"Constraints\":[{\"Name\":\"BrandKey\",\"Field\":\"Key\",\"RelatedField\":\"BrandKey\"}]}]},{\"Name\":\"CostCentre\",\"DimensionName\":\"RLXBICostCentre\",\"UseTableRelations\":0,\"DimensionRelations\":[{\"Name\":\"RLXBICostCentreView\",\"DimensionAttribute\":\"Key\",\"Constraints\":[{\"Name\":\"CostCentreKey\",\"Field\":\"Key\",\"RelatedField\":\"CostCentreKey\"}]}]},{\"Name\":\"Employee\",\"DimensionName\":\"RLXBIEmployee\",\"UseTableRelations\":0,\"DimensionRelations\":[{\"Name\":\"RLXBIEmployeeView\",\"DimensionAttribute\":\"Key\",\"Constraints\":[{\"Name\":\"EmployeeKey\",\"Field\":\"Key\",\"RelatedField\":\"EmployeeKey\"}]}]},{\"Name\":\"Interco\",\"DimensionName\":\"RLXBIInterco\",\"UseTableRelations\":0,\"DimensionRelations\":[{\"Name\":\"RLXBIIntercoView\",\"DimensionAttribute\":\"Key\",\"Constraints\":[{\"Name\":\"IntercoKey\",\"Field\":\"Key\",\"RelatedField\":\"IntercoKey\"}]}]},{\"Name\":\"InternalOrder\",\"DimensionName\":\"RLXBIInternalOrder\",\"UseTableRelations\":0,\"DimensionRelations\":[{\"Name\":\"RLXBIInternalOrderView\",\"DimensionAttribute\":\"Key\",\"Constraints\":[{\"Name\":\"InternalOrderKey\",\"Field\":\"Key\",\"RelatedField\":\"InternalOrderKey\"}]}]},{\"Name\":\"Nature\",\"DimensionName\":\"RLXBINature\",\"UseTableRelations\":0,\"DimensionRelations\":[{\"Name\":\"RLXBINatureView\",\"DimensionAttribute\":\"Key\",\"Constraints\":[{\"Name\":\"NatureKey\",\"Field\":\"Key\",\"RelatedField\":\"NatureKey\"}]}]},{\"Name\":\"Section\",\"DimensionName\":\"RLXBISection\",\"UseTableRelations\":0,\"DimensionRelations\":[{\"Name\":\"RLXBISectionView\",\"DimensionAttribute\":\"Key\",\"Constraints\":[{\"Name\":\"SectionKey\",\"Field\":\"Key\",\"RelatedField\":\"SectionKey\"}]}]},{\"Name\":\"Dimension1\",\"DimensionName\":\"RLXBIDimension1\",\"UseTableRelations\":0,\"DimensionRelations\":[{\"Name\":\"RLXBIDimension1View\",\"DimensionAttribute\":\"Key\",\"Constraints\":[{\"Name\":\"Dimension1Key\",\"Field\":\"Key\",\"RelatedField\":\"Dimension1Key\"}]}]},{\"Name\":\"Dimension2\",\"DimensionName\":\"RLXBIDimension2\",\"UseTableRelations\":0,\"DimensionRelations\":[{\"Name\":\"RLXBIDimension2View\",\"DimensionAttribute\":\"Key\",\"Constraints\":[{\"Name\":\"Dimension2Key\",\"Field\":\"Key\",\"RelatedField\":\"Dimension2Key\"}]}]},{\"Name\":\"Dimension3\",\"DimensionName\":\"RLXBIDimension3\",\"UseTableRelations\":0,\"DimensionRelations\":[{\"Name\":\"RLXBIDimension3View\",\"DimensionAttribute\":\"Key\",\"Constraints\":[{\"Name\":\"Dimension3Key\",\"Field\":\"Key\",\"RelatedField\":\"Dimension3Key\"}]}]},{\"Name\":\"Dimension4\",\"DimensionName\":\"RLXBIDimension4\",\"UseTableRelations\":0,\"DimensionRelations\":[{\"Name\":\"RLXBIDimension4View\",\"DimensionAttribute\":\"Key\",\"Constraints\":[{\"Name\":\"Dimension4Key\",\"Field\":\"Key\",\"RelatedField\":\"Dimension4Key\"}]}]},{\"Name\":\"Dimension5\",\"DimensionName\":\"RLXBIDimension5\",\"UseTableRelations\":0,\"DimensionRelations\":[{\"Name\":\"RLXBIDimension5View\",\"DimensionAttribute\":\"Key\",\"Constraints\":[{\"Name\":\"Dimension5Key\",\"Field\":\"Key\",\"RelatedField\":\"Dimension5Key\"}]}]},{\"Name\":\"Dimension6\",\"DimensionName\":\"RLXBIDimension6\",\"UseTableRelations\":0,\"DimensionRelations\":[{\"Name\":\"RLXBIDimension6View\",\"DimensionAttribute\":\"Key\",\"Constraints\":[{\"Name\":\"Dimension6Key\",\"Field\":\"Key\",\"RelatedField\":\"Dimension6Key\"}]}]},{\"Name\":\"Dimension7\",\"DimensionName\":\"RLXBIDimension7\",\"UseTableRelations\":0,\"DimensionRelations\":[{\"Name\":\"RLXBIDimension7View\",\"DimensionAttribute\":\"Key\",\"Constraints\":[{\"Name\":\"Dimension7Key\",\"Field\":\"Key\",\"RelatedField\":\"Dimension7Key\"}]}]},{\"Name\":\"Dimension8\",\"DimensionName\":\"RLXBIDimension8\",\"UseTableRelations\":0,\"DimensionRelations\":[{\"Name\":\"RLXBIDimension8View\",\"DimensionAttribute\":\"Key\",\"Constraints\":[{\"Name\":\"Dimension8Key\",\"Field\":\"Key\",\"RelatedField\":\"Dimension8Key\"}]}]},{\"Name\":\"Dimension9\",\"DimensionName\":\"RLXBIDimension9\",\"UseTableRelations\":0,\"DimensionRelations\":[{\"Name\":\"RLXBIDimension9View\",\"DimensionAttribute\":\"Key\",\"Constraints\":[{\"Name\":\"Dimension9Key\",\"Field\":\"Key\",\"RelatedField\":\"Dimension9Key\"}]}]},{\"Name\":\"Dimension10\",\"DimensionName\":\"RLXBIDimension10\",\"UseTableRelations\":0,\"DimensionRelations\":[{\"Name\":\"RLXBIDimension10View\",\"DimensionAttribute\":\"Key\",\"Constraints\":[{\"Name\":\"Dimension10Key\",\"Field\":\"Key\",\"RelatedField\":\"Dimension10Key\"}]}]}],\"Measures\":[{\"Name\":\"CreditAmount\",\"Field\":\"CreditAmount\",\"DefaultAggregate\":0},{\"Name\":\"DebitAmount\",\"Field\":\"DebitAmount\",\"DefaultAggregate\":0},{\"Name\":\"GJEAmountCur\",\"Field\":\"AccountingCurrencyAmount\",\"DefaultAggregate\":0},{\"Name\":\"GJEAmountMST\",\"Field\":\"TransactionCurrencyAmount\",\"DefaultAggregate\":0}]},{\"Name\":\"VendorTransactions\",\"Table\":\"RLXBIVendTransView\",\"Attributes\":[{\"Name\":\"Closed\",\"NameField\":\"Closed\",\"KeyFields\":[{\"DimensionField\":\"Closed\"}]},{\"Name\":\"CurrencyCode\",\"NameField\":\"CurrencyCode\",\"KeyFields\":[{\"DimensionField\":\"CurrencyCode\"}]},{\"Name\":\"Invoice\",\"NameField\":\"Invoice\",\"KeyFields\":[{\"DimensionField\":\"Invoice\"}]},{\"Name\":\"TransDate\",\"NameField\":\"TransDate\",\"KeyFields\":[{\"DimensionField\":\"TransDate\"}]},{\"Name\":\"TransType\",\"NameField\":\"TransType\",\"KeyFields\":[{\"DimensionField\":\"TransType\"}]},{\"Name\":\"Txt\",\"NameField\":\"Txt\",\"KeyFields\":[{\"DimensionField\":\"Txt\"}]},{\"Name\":\"VendAccountPBIKey\",\"NameField\":\"VendAccountPBIKey\",\"KeyFields\":[{\"DimensionField\":\"VendAccountPBIKey\"}]}],\"CalculatedMeasures\":[],\"Dimensions\":[{\"Name\":\"Company\",\"DimensionName\":\"Company\",\"DimensionRelations\":[{\"Name\":\"Company\",\"DimensionAttribute\":\"Company\",\"Constraints\":[{\"Name\":\"DataAreaId\",\"Field\":\"id\",\"RelatedField\":\"DataAreaId\"}]}]},{\"Name\":\"Currency\",\"DimensionName\":\"Currency\",\"UseTableRelations\":0,\"DimensionRelations\":[{\"Name\":\"BICurrencyView\",\"DimensionAttribute\":\"Currency\",\"Constraints\":[{\"Name\":\"CurrencyCode\",\"Field\":\"CurrencyCode\",\"RelatedField\":\"CurrencyCode\"}]}]},{\"Name\":\"DocumentDate\",\"DimensionName\":\"RLXBIDateDim\",\"DimensionRelations\":[{\"Name\":\"RLXBIDateDimensionValueView\",\"DimensionAttribute\":\"Date_\",\"Constraints\":[{\"Name\":\"DocumentDate\",\"Field\":\"BIDate\",\"RelatedField\":\"DocumentDate\"}]}]},{\"Name\":\"DueDate\",\"DimensionName\":\"RLXBIDateDim\",\"UseTableRelations\":0,\"DimensionRelations\":[{\"Name\":\"RLXBIDateDimensionValueView\",\"DimensionAttribute\":\"Date_\",\"Constraints\":[{\"Name\":\"DueDate\",\"Field\":\"BIDate\",\"RelatedField\":\"DueDate\"}]}]},{\"Name\":\"PostingDate\",\"DimensionName\":\"RLXBIDateDim\",\"DimensionRelations\":[{\"Name\":\"RLXBIDateDimensionValueView\",\"DimensionAttribute\":\"Date_\",\"Constraints\":[{\"Name\":\"TransDate\",\"Field\":\"BIDate\",\"RelatedField\":\"TransDate\"}]}]},{\"Name\":\"TransType\",\"DimensionName\":\"RLXBIEnumTransTypeDim\",\"UseTableRelations\":0,\"DimensionRelations\":[{\"Name\":\"RLXBIEnumTransTypeView\",\"DimensionAttribute\":\"EnumItemValue\",\"Constraints\":[{\"Name\":\"TransType\",\"Field\":\"EnumItemValue\",\"RelatedField\":\"TransType\"}]}]},{\"Name\":\"Vendor\",\"DimensionName\":\"RLXBIVendTableDim\",\"UseTableRelations\":0,\"DimensionRelations\":[{\"Name\":\"RLXBIVendTableView\",\"DimensionAttribute\":\"PBIKey\",\"Constraints\":[{\"Name\":\"VendAccountPBIKey\",\"Field\":\"PBIKey\",\"RelatedField\":\"VendAccountPBIKey\"}]}]},{\"Name\":\"Voucher\",\"DimensionName\":\"RLXBIGeneralJournalEntryVoucherDim\",\"UseTableRelations\":0,\"DimensionRelations\":[{\"Name\":\"RLXBIGeneralJournalEntryVoucherView\",\"DimensionAttribute\":\"Voucher\",\"Constraints\":[{\"Name\":\"Voucher\",\"Field\":\"Voucher\",\"RelatedField\":\"Voucher\"}]}]}],\"Measures\":[{\"Name\":\"VendAmountCur\",\"Field\":\"AmountCur\",\"DefaultAggregate\":0},{\"Name\":\"VendAmountMST\",\"Field\":\"AmountMST\",\"DefaultAggregate\":0}]},{\"Name\":\"TaxTransactions\",\"Table\":\"RLXBITaxTransView\",\"Attributes\":[],\"CalculatedMeasures\":[],\"Dimensions\":[{\"Name\":\"Company\",\"DimensionName\":\"Company\",\"UseTableRelations\":0,\"DimensionRelations\":[{\"Name\":\"Company\",\"DimensionAttribute\":\"Company\",\"Constraints\":[{\"Name\":\"DataAreaId\",\"Field\":\"id\",\"RelatedField\":\"DataAreaId\"}]}]},{\"Name\":\"PostingDate\",\"DimensionName\":\"RLXBIDateDim\",\"UseTableRelations\":0,\"DimensionRelations\":[{\"Name\":\"RLXBIDateDimensionValueView\",\"DimensionAttribute\":\"Date_\",\"Constraints\":[{\"Name\":\"TransDate\",\"Field\":\"BIDate\",\"RelatedField\":\"TransDate\"}]}]}],\"Measures\":[{\"Name\":\"Measure1\"},{\"Name\":\"Measure2\"}]},{\"Name\":\"MainAccountTranslation\",\"Table\":\"MainAccountTranslation\",\"Attributes\":[{\"Name\":\"MainAccountRecId\",\"NameField\":\"MainAccount\",\"KeyFields\":[{\"DimensionField\":\"MainAccount\"}]},{\"Name\":\"LanguageId\",\"NameField\":\"LanguageId\",\"KeyFields\":[{\"DimensionField\":\"LanguageId\"}]},{\"Name\":\"Name\",\"NameField\":\"Name\",\"KeyFields\":[{\"DimensionField\":\"Name\"}]}],\"CalculatedMeasures\":[],\"Dimensions\":[],\"Measures\":[{\"Name\":\"RecId\",\"Field\":\"RecId\"}]}]\n"
          ]
        }
      ],
      "execution_count": 18,
      "metadata": {
        "collapsed": true,
        "jupyter": {
          "source_hidden": false,
          "outputs_hidden": false
        },
        "nteract": {
          "transient": {
            "deleting": false
          }
        }
      }
    },
    {
      "cell_type": "markdown",
      "source": [
        "## Query Azure Synapse Table\r\n",
        "\r\n",
        "The example below illustrates querying an Azure Synapse Table from Spark using the [SQL Server connector](https://docs.microsoft.com/en-us/sql/connect/spark/connector?view=sql-server-ver15) in the Entity Store SDK."
      ],
      "metadata": {
        "nteract": {
          "transient": {
            "deleting": false
          }
        }
      }
    },
    {
      "cell_type": "code",
      "source": [
        "var query = \"select top(100) * from Weather\";\r\n",
        "\r\n",
        "var df = spark.Read()\r\n",
        "              .Format(\"com.microsoft.sqlserver.jdbc.spark\")\r\n",
        "              .Option(\"url\", sqlPoolConnectionString)\r\n",
        "              .Option(\"driver\", \"com.microsoft.sqlserver.jdbc.SQLServerDriver\")\r\n",
        "              .Option(\"query\", query) //use dbtable for the entire table\r\n",
        "              .Load();\r\n",
        "\r\n",
        "display(df.Head(15));\r\n"
      ],
      "outputs": [
        {
          "output_type": "display_data",
          "data": {
            "application/vnd.livy.statement-meta+json": {
              "spark_pool": "patc6sx8767zd5k",
              "session_id": 12,
              "statement_id": 9,
              "state": "finished",
              "livy_statement_state": "available",
              "queued_time": "2021-07-01T15:51:11.6533693Z",
              "session_start_time": null,
              "execution_start_time": "2021-07-01T15:51:11.7656437Z",
              "execution_finish_time": "2021-07-01T15:51:13.8256164Z"
            },
            "text/plain": "StatementMeta(patc6sx8767zd5k, 12, 9, Finished, Available)"
          },
          "metadata": {}
        },
        {
          "output_type": "execute_result",
          "execution_count": 8,
          "data": {
            "text/html": "<table><thead><tr><th><i>index</i></th><th>Schema</th><th>Values</th></tr></thead><tbody><tr><td>0</td><td><div class=\"dni-plaintext\">Microsoft.Spark.Sql.Types.StructType</div></td><td><div class=\"dni-plaintext\">[ 20061003, 12507, 0, 71.2 ]</div></td></tr><tr><td>1</td><td><div class=\"dni-plaintext\">Microsoft.Spark.Sql.Types.StructType</div></td><td><div class=\"dni-plaintext\">[ 20121230, 62697, 0.2, 34 ]</div></td></tr><tr><td>2</td><td><div class=\"dni-plaintext\">Microsoft.Spark.Sql.Types.StructType</div></td><td><div class=\"dni-plaintext\">[ 20011106, 78539, 0, 54 ]</div></td></tr><tr><td>3</td><td><div class=\"dni-plaintext\">Microsoft.Spark.Sql.Types.StructType</div></td><td><div class=\"dni-plaintext\">[ 20000711, 62665, 0, 80.5 ]</div></td></tr><tr><td>4</td><td><div class=\"dni-plaintext\">Microsoft.Spark.Sql.Types.StructType</div></td><td><div class=\"dni-plaintext\">[ 20070602, 70017, 0.09, 78.8 ]</div></td></tr><tr><td>5</td><td><div class=\"dni-plaintext\">Microsoft.Spark.Sql.Types.StructType</div></td><td><div class=\"dni-plaintext\">[ 20130828, 70017, 0.09, 78 ]</div></td></tr><tr><td>6</td><td><div class=\"dni-plaintext\">Microsoft.Spark.Sql.Types.StructType</div></td><td><div class=\"dni-plaintext\">[ 20040322, 269329, 0, 35.2 ]</div></td></tr><tr><td>7</td><td><div class=\"dni-plaintext\">Microsoft.Spark.Sql.Types.StructType</div></td><td><div class=\"dni-plaintext\">[ 20000818, 69970, 0, 71.9 ]</div></td></tr><tr><td>8</td><td><div class=\"dni-plaintext\">Microsoft.Spark.Sql.Types.StructType</div></td><td><div class=\"dni-plaintext\">[ 20100930, 188335, 0, 65.8 ]</div></td></tr><tr><td>9</td><td><div class=\"dni-plaintext\">Microsoft.Spark.Sql.Types.StructType</div></td><td><div class=\"dni-plaintext\">[ 20100927, 188335, 0, 62.4 ]</div></td></tr><tr><td>10</td><td><div class=\"dni-plaintext\">Microsoft.Spark.Sql.Types.StructType</div></td><td><div class=\"dni-plaintext\">[ 20060426, 132907, 0, 57.3 ]</div></td></tr><tr><td>11</td><td><div class=\"dni-plaintext\">Microsoft.Spark.Sql.Types.StructType</div></td><td><div class=\"dni-plaintext\">[ 20060919, 12503, 0, 65.2 ]</div></td></tr><tr><td>12</td><td><div class=\"dni-plaintext\">Microsoft.Spark.Sql.Types.StructType</div></td><td><div class=\"dni-plaintext\">[ 20011111, 78539, 0, 48.6 ]</div></td></tr><tr><td>13</td><td><div class=\"dni-plaintext\">Microsoft.Spark.Sql.Types.StructType</div></td><td><div class=\"dni-plaintext\">[ 20070212, 84651, 0.09, 40.8 ]</div></td></tr><tr><td>14</td><td><div class=\"dni-plaintext\">Microsoft.Spark.Sql.Types.StructType</div></td><td><div class=\"dni-plaintext\">[ 20000819, 69970, 0, 73 ]</div></td></tr></tbody></table><pre>\n</pre>"
          },
          "metadata": {}
        }
      ],
      "execution_count": 8,
      "metadata": {
        "jupyter": {
          "source_hidden": false,
          "outputs_hidden": false
        },
        "nteract": {
          "transient": {
            "deleting": false
          }
        },
        "collapsed": true
      }
    },
    {
      "cell_type": "markdown",
      "source": [
        "## Join Fact and Dimension Tables in Azure Synapse\r\n",
        "\r\n",
        "In the example below, we'll traverse the Measurement Metadata to join fact and dimensions tables using the [SQL Server connector](https://docs.microsoft.com/en-us/sql/connect/spark/connector?view=sql-server-ver15) in the Entity Store SDK."
      ],
      "metadata": {
        "nteract": {
          "transient": {
            "deleting": false
          }
        }
      }
    },
    {
      "cell_type": "code",
      "source": [
        "var measureGroup = measureMetadata[\"MeasureGroups\"].First();\r\n",
        "\r\n",
        "var factTableDf = entityStoreSdk.QueryTable(measureGroup[\"Table\"].ToString());\r\n",
        "\r\n",
        "var selectMeasureGroupDimensionQuery = new StringBuilder($\"SELECT * FROM {measureGroup[\"Table\"].ToString()}\");\r\n",
        "foreach (var dimension in measureGroup[\"Dimensions\"])\r\n",
        "{\r\n",
        "    var dimensionRelation = dimension[\"DimensionRelations\"]?.FirstOrDefault(); // gets the first relation\r\n",
        "    selectMeasureGroupDimensionQuery.Append($\" INNER JOIN {dimensionRelation[\"Name\"].ToString()} ON {dimensionRelation[\"DimensionAttribute\"].ToString()}\");\r\n",
        "}\r\n",
        "\r\n",
        "Console.WriteLine($\"Executing query: {selectMeasureGroupDimensionQuery.ToString()}\");\r\n",
        "\r\n",
        "var starSchemaDf = entityStoreSdk.QueryTable(selectMeasureGroupDimensionQuery.ToString());\r\n",
        "\r\n",
        "display(starSchemaDf.Head(15));\r\n"
      ],
      "outputs": [
        {
          "output_type": "display_data",
          "data": {
            "application/vnd.livy.statement-meta+json": {
              "spark_pool": "patc6sx8767zd5k",
              "session_id": 13,
              "statement_id": 30,
              "state": "finished",
              "livy_statement_state": "available",
              "queued_time": "2021-07-01T22:17:18.3413335Z",
              "session_start_time": null,
              "execution_start_time": "2021-07-01T22:17:18.5025789Z",
              "execution_finish_time": "2021-07-01T22:17:20.5688202Z"
            },
            "text/plain": "StatementMeta(patc6sx8767zd5k, 13, 30, Finished, Available)"
          },
          "metadata": {}
        },
        {
          "output_type": "stream",
          "name": "stdout",
          "text": [
            "Executing query: SELECT * FROM BudgetRegisterEntryEntity INNER JOIN RLXBIBudgetModelView ON PBIKey  INNER JOIN Company ON Company  INNER JOIN BICurrencyView ON Currency  INNER JOIN RLXBIMainAccountView ON MainAccountRecId  INNER JOIN RLXBIDateDimensionValueView ON Date_  INNER JOIN RLXBIBrandView ON Key  INNER JOIN RLXBICostCentreView ON Key  INNER JOIN RLXBIEmployeeView ON Key  INNER JOIN RLXBIIntercoView ON Key  INNER JOIN RLXBIInternalOrderView ON Key  INNER JOIN RLXBINatureView ON Key  INNER JOIN RLXBISectionView ON Key  INNER JOIN RLXBIDimension1View ON Key  INNER JOIN RLXBIDimension2View ON Key  INNER JOIN RLXBIDimension3View ON Key  INNER JOIN RLXBIDimension4View ON Key  INNER JOIN RLXBIDimension5View ON Key  INNER JOIN RLXBIDimension6View ON Key  INNER JOIN RLXBIDimension7View ON Key  INNER JOIN RLXBIDimension8View ON Key  INNER JOIN RLXBIDimension9View ON Key  INNER JOIN RLXBIDimension10View ON Key \n"
          ]
        }
      ],
      "execution_count": 30,
      "metadata": {
        "jupyter": {
          "source_hidden": false,
          "outputs_hidden": false
        },
        "nteract": {
          "transient": {
            "deleting": false
          }
        },
        "collapsed": true
      }
    },
    {
      "cell_type": "markdown",
      "source": [
        "## Store Results in Azure Synapse SQL (Dedicated Server)\r\n",
        "\r\n",
        "Azure Synapse team recommends using the [\"synapsesql\" connector](https://docs.microsoft.com/en-us/azure/synapse-analytics/spark/synapse-spark-sql-pool-import-export#use-pyspark-with-the-connector) to read/write data from Azure Synapse SQL.\r\n",
        "This connector is currently only available in Scala, so in order to use it we'll have to first store the Dataframe as a temp view (Hive Table),\r\n",
        "then use the connector in Scala to write the temp table into Azure Synapse like the cells below.\r\n",
        "\r\n",
        "Please notice that you must grant \"Storage Blob Data Contributor\" right in the storage account used by the Azure Synapse workspace.\r\n",
        "See the [documentation](https://docs.microsoft.com/en-us/azure/synapse-analytics/spark/synapse-spark-sql-pool-import-export#use-pyspark-with-the-connector) for more details.\r\n",
        "\r\n"
      ],
      "metadata": {
        "nteract": {
          "transient": {
            "deleting": false
          }
        }
      }
    },
    {
      "cell_type": "code",
      "source": [
        "df.CreateOrReplaceTempView(\"DestinationWeatherTable\");"
      ],
      "outputs": [
        {
          "output_type": "display_data",
          "data": {
            "application/vnd.livy.statement-meta+json": {
              "spark_pool": "patc6sx8767zd5k",
              "session_id": 12,
              "statement_id": 10,
              "state": "finished",
              "livy_statement_state": "available",
              "queued_time": "2021-07-01T15:51:33.5665041Z",
              "session_start_time": null,
              "execution_start_time": "2021-07-01T15:51:33.666333Z",
              "execution_finish_time": "2021-07-01T15:51:35.7234332Z"
            },
            "text/plain": "StatementMeta(patc6sx8767zd5k, 12, 10, Finished, Available)"
          },
          "metadata": {}
        },
        {
          "output_type": "stream",
          "name": "stdout",
          "text": []
        }
      ],
      "execution_count": 9,
      "metadata": {
        "jupyter": {
          "source_hidden": false,
          "outputs_hidden": false
        },
        "nteract": {
          "transient": {
            "deleting": false
          }
        },
        "collapsed": true
      }
    },
    {
      "cell_type": "code",
      "source": [
        "%%spark\r\n",
        "val scala_df = spark.sqlContext.sql (\"select * from DestinationWeatherTable\")\r\n",
        "\r\n",
        "scala_df.write.\r\n",
        "option(Constants.SERVER, \"synapsews-dev-westus2-c30d4.database.windows.net\").\r\n",
        "synapsesql(\"SampleSQL.dbo.DestinationWeatherTable\", Constants.INTERNAL)"
      ],
      "outputs": [
        {
          "output_type": "display_data",
          "data": {
            "application/vnd.livy.statement-meta+json": {
              "spark_pool": "patc6sx8767zd5k",
              "session_id": 12,
              "statement_id": 11,
              "state": "finished",
              "livy_statement_state": "available",
              "queued_time": "2021-07-01T15:51:51.1641197Z",
              "session_start_time": null,
              "execution_start_time": "2021-07-01T15:51:51.2673847Z",
              "execution_finish_time": "2021-07-01T15:52:05.6865074Z"
            },
            "text/plain": "StatementMeta(patc6sx8767zd5k, 12, 11, Finished, Available)"
          },
          "metadata": {}
        },
        {
          "output_type": "stream",
          "name": "stdout",
          "text": [
            "scala_df: org.apache.spark.sql.DataFrame = [DateID: int, GeographyID: int ... 2 more fields]\n"
          ]
        }
      ],
      "execution_count": 10,
      "metadata": {
        "jupyter": {
          "source_hidden": false,
          "outputs_hidden": false
        },
        "nteract": {
          "transient": {
            "deleting": false
          }
        },
        "microsoft": {
          "language": "scala"
        },
        "collapsed": true
      }
    },
    {
      "cell_type": "markdown",
      "source": [
        "## Store Results in the Data Lake in CDM Format\r\n",
        "\r\n",
        "You can use CDM Spark Connector to write the contents of the DataFrame using [CDM Spark](https://github.com/Azure/spark-cdm-connector) connector.\r\n"
      ],
      "metadata": {
        "nteract": {
          "transient": {
            "deleting": false
          }
        }
      }
    },
    {
      "cell_type": "code",
      "source": [],
      "outputs": [],
      "execution_count": null,
      "metadata": {
        "jupyter": {
          "source_hidden": false,
          "outputs_hidden": false
        },
        "nteract": {
          "transient": {
            "deleting": false
          }
        },
        "collapsed": true
      }
    }
  ],
  "metadata": {
    "kernelspec": {
      "name": "synapse_sparkdotnet",
      "language": "C#",
      "display_name": "Synapse SparkDotNet"
    },
    "language_info": {
      "name": "csharp"
    },
    "kernel_info": {
      "name": "synapse_sparkdotnet"
    },
    "save_output": true,
    "synapse_widget": {
      "version": "0.1",
      "state": {}
    }
  },
  "nbformat": 4,
  "nbformat_minor": 2
}
