{
  "cells": [
    {
      "cell_type": "markdown",
      "source": [
        "## Install Dependencies\r\n",
        "Install the nuget packages required for the Entity Store SDK."
      ],
      "metadata": {
        "nteract": {
          "transient": {
            "deleting": false
          }
        }
      }
    },
    {
      "cell_type": "code",
      "source": [
        "#r \"nuget:Azure.Identity,1.1.1\"\r\n",
        "#r \"nuget:Azure.Storage.Blobs,12.6.0\""
      ],
      "outputs": [
        {
          "output_type": "display_data",
          "data": {
            "application/vnd.livy.statement-meta+json": {
              "spark_pool": "patc6sx8767zd5k",
              "session_id": 44,
              "statement_id": 1,
              "state": "finished",
              "livy_statement_state": "available",
              "queued_time": "2021-09-06T20:19:21.9731164Z",
              "session_start_time": "2021-09-06T20:19:22.0097085Z",
              "execution_start_time": "2021-09-06T20:21:31.0290666Z",
              "execution_finish_time": "2021-09-06T20:21:37.9197685Z"
            },
            "text/plain": "StatementMeta(patc6sx8767zd5k, 44, 1, Finished, Available)"
          },
          "metadata": {}
        },
        {
          "output_type": "stream",
          "name": "stdout",
          "text": [
            "Installing package Azure.Storage.Blobs, version 12.6.0...Installing package Azure.Identity, version 1.1.1...Installed package Azure.Storage.Blobs version 12.6.0Installed package Azure.Identity version 1.1.1"
          ]
        }
      ],
      "execution_count": 1,
      "metadata": {
        "jupyter": {
          "source_hidden": false,
          "outputs_hidden": false
        },
        "nteract": {
          "transient": {
            "deleting": false
          }
        },
        "collapsed": true
      }
    },
    {
      "cell_type": "markdown",
      "source": [
        "## Configuration\r\n",
        "Provide connection details for the data lake and sql pool."
      ],
      "metadata": {
        "nteract": {
          "transient": {
            "deleting": false
          }
        }
      }
    },
    {
      "cell_type": "code",
      "source": [
        "using Microsoft.Spark.Extensions.Azure.Synapse.Analytics.Utils;\r\n",
        "\r\n",
        "dynamic dataLakeConnectionInfo = new {\r\n",
        "    StorageAccountName = \"\",\r\n",
        "    Container = \"\",\r\n",
        "    EntityStoreMetadataPath = \"\",\r\n",
        "};\r\n",
        "\r\n",
        "dynamic sqlPoolConnectionInfo = new {\r\n",
        "    PoolName = \"\",\r\n",
        "    Schema = \"\",\r\n",
        "    Database = \"\",\r\n",
        "};\r\n",
        "\r\n",
        "\r\n",
        "var sqlPoolConnectionString = TokenLibrary.GetSecret(\"<KEYVAULT-NAME>\", \"SECRET-NAME-SQL\");\r\n",
        "\r\n",
        "string adlsConnectionString = TokenLibrary.GetSecret(\"<KEYVAULT-NAME>\", \"SECRET-NAME-ADLS\");\r\n",
        "\r\n"
      ],
      "outputs": [
        {
          "output_type": "display_data",
          "data": {
            "application/vnd.livy.statement-meta+json": {
              "spark_pool": "patc6sx8767zd5k",
              "session_id": 44,
              "statement_id": 4,
              "state": "finished",
              "livy_statement_state": "available",
              "queued_time": "2021-09-06T20:24:59.0296472Z",
              "session_start_time": null,
              "execution_start_time": "2021-09-06T20:24:59.1357765Z",
              "execution_finish_time": "2021-09-06T20:25:04.4386615Z"
            },
            "text/plain": "StatementMeta(patc6sx8767zd5k, 44, 4, Finished, Available)"
          },
          "metadata": {}
        },
        {
          "output_type": "stream",
          "name": "stdout",
          "text": []
        }
      ],
      "execution_count": 4,
      "metadata": {
        "jupyter": {
          "source_hidden": false,
          "outputs_hidden": false
        },
        "nteract": {
          "transient": {
            "deleting": false
          }
        },
        "collapsed": true
      }
    },
    {
      "cell_type": "markdown",
      "source": [
        "## Dynamics Entity Store SDK"
      ],
      "metadata": {
        "nteract": {
          "transient": {
            "deleting": false
          }
        }
      }
    },
    {
      "cell_type": "code",
      "source": [
        "using System.IO;\r\n",
        "using System.IO.Compression;\r\n",
        "using Newtonsoft.Json;\r\n",
        "using Newtonsoft.Json.Linq;\r\n",
        "using Microsoft.Spark;\r\n",
        "\r\n",
        "class EntityStoreSdk {\r\n",
        "\r\n",
        "    private string SqlConnectionString {get; set;}\r\n",
        "    private Microsoft.Spark.Sql.SparkSession SparkSession {get; set;}\r\n",
        "\r\n",
        "    public EntityStoreSdk(string sqlConnectionString, Microsoft.Spark.Sql.SparkSession sparkSession)\r\n",
        "    {\r\n",
        "        this.SqlConnectionString = sqlConnectionString;\r\n",
        "        this.SparkSession = sparkSession;\r\n",
        "    }\r\n",
        "\r\n",
        "    public JObject ReadMetadata(MemoryStream memoryStream)\r\n",
        "    {\r\n",
        "        using (var zip = new ZipArchive(memoryStream, ZipArchiveMode.Read))\r\n",
        "        {\r\n",
        "            // Finds the root measurement metadata\r\n",
        "            var entryList = zip.Entries.ToList();\r\n",
        "            var measurementEntry = entryList.FirstOrDefault(e => e.FullName == \"measurement.json\");\r\n",
        "\r\n",
        "            if (measurementEntry == null)\r\n",
        "            {\r\n",
        "                throw new Exception($\"Cannot find measurement metadata file 'measurement.json' in the root folder of the file \");\r\n",
        "            }\r\n",
        "\r\n",
        "            using (var stream = measurementEntry.Open())\r\n",
        "            {\r\n",
        "                var serializer = new JsonSerializer();\r\n",
        "\r\n",
        "                using (var sr = new StreamReader(stream))\r\n",
        "                using (var jsonTextReader = new JsonTextReader(sr))\r\n",
        "                {\r\n",
        "                    dynamic measurementMetadata = JObject.Load(jsonTextReader);\r\n",
        "\r\n",
        "                    Console.WriteLine($\"Processing measurement '{measurementMetadata.Label}' ({measurementMetadata.Name})\");\r\n",
        "\r\n",
        "                    return measurementMetadata;\r\n",
        "                }\r\n",
        "            }\r\n",
        "        }\r\n",
        "\r\n",
        "        throw new Exception(\"Could not process the aggregate measurement.\");\r\n",
        "    }\r\n",
        "\r\n",
        "    public string ConvertReservedWords(dynamic dimensionAttribute)\r\n",
        "    {\r\n",
        "        HashSet<string> reservedWords = new HashSet<string>()\r\n",
        "        {\r\n",
        "            \"KEY\",\r\n",
        "            \"DATE\",\r\n",
        "        };\r\n",
        "\r\n",
        "        if (reservedWords.Contains(dimensionAttribute.ToString().ToUpper()))\r\n",
        "        {\r\n",
        "            return $\"{dimensionAttribute}_\";\r\n",
        "        }\r\n",
        "\r\n",
        "        return dimensionAttribute.ToString();\r\n",
        "    }\r\n",
        "\r\n",
        "    public DataFrame QueryTable(string query)\r\n",
        "    {\r\n",
        "        var df = this.SparkSession.Read()\r\n",
        "              .Format(\"com.microsoft.sqlserver.jdbc.spark\")\r\n",
        "              .Option(\"url\", this.SqlConnectionString)\r\n",
        "              .Option(\"driver\", \"com.microsoft.sqlserver.jdbc.SQLServerDriver\")\r\n",
        "              .Option(\"query\", query)   // use dbtable for the entire table\r\n",
        "              .Option(\"isolationLevel\", \"READ_UNCOMMITTED\")\r\n",
        "              .Load();\r\n",
        "\r\n",
        "        return df;\r\n",
        "    }\r\n",
        "}"
      ],
      "outputs": [
        {
          "output_type": "display_data",
          "data": {
            "application/vnd.livy.statement-meta+json": {
              "spark_pool": "patc6sx8767zd5k",
              "session_id": 44,
              "statement_id": 5,
              "state": "finished",
              "livy_statement_state": "available",
              "queued_time": "2021-09-06T20:25:09.4604748Z",
              "session_start_time": null,
              "execution_start_time": "2021-09-06T20:25:09.5668277Z",
              "execution_finish_time": "2021-09-06T20:25:10.6426962Z"
            },
            "text/plain": "StatementMeta(patc6sx8767zd5k, 44, 5, Finished, Available)"
          },
          "metadata": {}
        },
        {
          "output_type": "stream",
          "name": "stdout",
          "text": []
        }
      ],
      "execution_count": 5,
      "metadata": {
        "jupyter": {
          "source_hidden": false,
          "outputs_hidden": false
        },
        "nteract": {
          "transient": {
            "deleting": false
          }
        },
        "collapsed": true
      }
    },
    {
      "cell_type": "markdown",
      "source": [
        "## Load Aggregate Measurement Metadata"
      ],
      "metadata": {
        "nteract": {
          "transient": {
            "deleting": false
          }
        }
      }
    },
    {
      "cell_type": "code",
      "source": [
        "using global::Azure.Identity;\r\n",
        "using global::Azure.Storage.Blobs;\r\n",
        "\r\n",
        "var entityStoreSdk = new EntityStoreSdk(sqlPoolConnectionString, spark);\r\n",
        "JObject measureMetadata = null;\r\n",
        "\r\n",
        "BlobServiceClient blobServiceClient = new BlobServiceClient(adlsConnectionString);\r\n",
        "BlobContainerClient containerClient = blobServiceClient.GetBlobContainerClient(dataLakeConnectionInfo.Container);\r\n",
        "\r\n",
        "BlobClient blobClient = containerClient.GetBlobClient(dataLakeConnectionInfo.EntityStoreMetadataPath);\r\n",
        "if (await blobClient.ExistsAsync())\r\n",
        "{\r\n",
        "      Console.WriteLine(\"Downloading Entity Store Metadata...\");\r\n",
        "\r\n",
        "      using (var memoryStream = new MemoryStream())\r\n",
        "      {\r\n",
        "            blobClient.DownloadTo(memoryStream);\r\n",
        "            measureMetadata = entityStoreSdk.ReadMetadata(memoryStream);\r\n",
        "      }\r\n",
        "}"
      ],
      "outputs": [
        {
          "output_type": "display_data",
          "data": {
            "application/vnd.livy.statement-meta+json": {
              "spark_pool": "patc6sx8767zd5k",
              "session_id": 44,
              "statement_id": 6,
              "state": "finished",
              "livy_statement_state": "available",
              "queued_time": "2021-09-06T20:25:14.7473035Z",
              "session_start_time": null,
              "execution_start_time": "2021-09-06T20:25:14.8574897Z",
              "execution_finish_time": "2021-09-06T20:25:15.8337997Z"
            },
            "text/plain": "StatementMeta(patc6sx8767zd5k, 44, 6, Finished, Available)"
          },
          "metadata": {}
        },
        {
          "output_type": "stream",
          "name": "stdout",
          "text": [
            "Downloading Entity Store Metadata...\n",
            "Processing measurement 'RLX BI Ledger Cube' (RLXBILedgerCube)\n"
          ]
        }
      ],
      "execution_count": 6,
      "metadata": {}
    },
    {
      "cell_type": "markdown",
      "source": [
        "## Display Temp Variable"
      ],
      "metadata": {
        "nteract": {
          "transient": {
            "deleting": false
          }
        }
      }
    },
    {
      "cell_type": "code",
      "source": [
        "display(measureMetadata[\"MeasureGroups\"]);"
      ],
      "outputs": [
        {
          "output_type": "display_data",
          "data": {
            "application/vnd.livy.statement-meta+json": {
              "spark_pool": "patc6sx8767zd5k",
              "session_id": 44,
              "statement_id": 7,
              "state": "finished",
              "livy_statement_state": "available",
              "queued_time": "2021-09-06T20:25:51.2168323Z",
              "session_start_time": null,
              "execution_start_time": "2021-09-06T20:25:51.8540047Z",
              "execution_finish_time": "2021-09-06T20:25:52.367068Z"
            },
            "text/plain": "StatementMeta(patc6sx8767zd5k, 44, 7, Finished, Available)"
          },
          "metadata": {}
        },
        {
          "output_type": "stream",
          "name": "stdout",
          "text": [
            "[{\"Name\":\"BudgetRegisterEntry\",\"Table\":\"BudgetRegisterEntryEntity\",\"Attributes\":[{\"Name\":\"AmountType\",\"NameField\":\"AmountType\",\"KeyFields\":[{\"DimensionField\":\"AmountType\"}]},{\"Name\":\"BudgetCode\",\"NameField\":\"BudgetCode\",\"KeyFields\":[{\"DimensionField\":\"BudgetCode\"}]},{\"Name\":\"BudgetType\",\"NameField\":\"BudgetType\",\"KeyFields\":[{\"DimensionField\":\"BudgetType\"}]},{\"Name\":\"Comment\",\"NameField\":\"Comment\",\"KeyFields\":[{\"DimensionField\":\"Comment\"}]},{\"Name\":\"EntryNumber\",\"NameField\":\"EntryNumber\",\"KeyFields\":[{\"DimensionField\":\"EntryNumber\"}]},{\"Name\":\"TransactionStatus\",\"NameField\":\"RLXTransactionStatus\",\"KeyFields\":[{\"DimensionField\":\"RLXTransactionStatus\"}]}],\"CalculatedMeasures\":[],\"Dimensions\":[{\"Name\":\"BudgetModel\",\"DimensionName\":\"RLXBIBudgetModelTableDim\",\"UseTableRelations\":0,\"DimensionRelations\":[{\"Name\":\"RLXBIBudgetModelView\",\"DimensionAttribute\":\"PBIKey\",\"Constraints\":[{\"Name\":\"RLXBudgetModelPBIKey\",\"Field\":\"PBIKey\",\"RelatedField\":\"RLXBudgetModelPBIKey\"}]}]},{\"Name\":\"Company\",\"DimensionName\":\"Company\",\"DimensionRelations\":[{\"Name\":\"Company\",\"DimensionAttribute\":\"Company\",\"Constraints\":[{\"Name\":\"LegalEntityId\",\"Field\":\"id\",\"RelatedField\":\"LegalEntityId\"}]}]},{\"Name\":\"Currency\",\"DimensionName\":\"Currency\",\"UseTableRelations\":0,\"DimensionRelations\":[{\"Name\":\"BICurrencyView\",\"DimensionAttribute\":\"Currency\",\"Constraints\":[{\"Name\":\"CurrencyCode\",\"Field\":\"CurrencyCode\",\"RelatedField\":\"CurrencyCode\"}]}]},{\"Name\":\"MainAccount\",\"DimensionName\":\"RLXBIMainAccountDim\",\"UseTableRelations\":0,\"DimensionRelations\":[{\"Name\":\"RLXBIMainAccountView\",\"DimensionAttribute\":\"MainAccountRecId\",\"Constraints\":[{\"Name\":\"RLXMainAccountKey\",\"Field\":\"MainAccountRecId\",\"RelatedField\":\"RLXMainAccountKey\"}]}]},{\"Name\":\"PostingDate\",\"DimensionName\":\"RLXBIDateDim\",\"UseTableRelations\":0,\"DimensionRelations\":[{\"Name\":\"RLXBIDateDimensionValueView\",\"DimensionAttribute\":\"Date_\",\"Constraints\":[{\"Name\":\"Date\",\"Field\":\"BIDate\",\"RelatedField\":\"Date\"}]}]},{\"Name\":\"Brand\",\"DimensionName\":\"RLXBIBrand\",\"UseTableRelations\":0,\"DimensionRelations\":[{\"Name\":\"RLXBIBrandView\",\"DimensionAttribute\":\"Key\",\"Constraints\":[{\"Name\":\"RLXBrandKey\",\"Field\":\"Key\",\"RelatedField\":\"RLXBrandKey\"}]}]},{\"Name\":\"CostCentre\",\"DimensionName\":\"RLXBICostCentre\",\"UseTableRelations\":0,\"DimensionRelations\":[{\"Name\":\"RLXBICostCentreView\",\"DimensionAttribute\":\"Key\",\"Constraints\":[{\"Name\":\"RLXCostCentreKey\",\"Field\":\"Key\",\"RelatedField\":\"RLXCostCentreKey\"}]}]},{\"Name\":\"Employee\",\"DimensionName\":\"RLXBIEmployee\",\"UseTableRelations\":0,\"DimensionRelations\":[{\"Name\":\"RLXBIEmployeeView\",\"DimensionAttribute\":\"Key\",\"Constraints\":[{\"Name\":\"RLXEmployeeKey\",\"Field\":\"Key\",\"RelatedField\":\"RLXEmployeeKey\"}]}]},{\"Name\":\"Interco\",\"DimensionName\":\"RLXBIInterco\",\"UseTableRelations\":0,\"DimensionRelations\":[{\"Name\":\"RLXBIIntercoView\",\"DimensionAttribute\":\"Key\",\"Constraints\":[{\"Name\":\"RLXIntercoKey\",\"Field\":\"Key\",\"RelatedField\":\"RLXIntercoKey\"}]}]},{\"Name\":\"InternalOrder\",\"DimensionName\":\"RLXBIInternalOrder\",\"UseTableRelations\":0,\"DimensionRelations\":[{\"Name\":\"RLXBIInternalOrderView\",\"DimensionAttribute\":\"Key\",\"Constraints\":[{\"Name\":\"RLXInternalOrderKey\",\"Field\":\"Key\",\"RelatedField\":\"RLXInternalOrderKey\"}]}]},{\"Name\":\"Nature\",\"DimensionName\":\"RLXBINature\",\"UseTableRelations\":0,\"DimensionRelations\":[{\"Name\":\"RLXBINatureView\",\"DimensionAttribute\":\"Key\",\"Constraints\":[{\"Name\":\"RLXNatureKey\",\"Field\":\"Key\",\"RelatedField\":\"RLXNatureKey\"}]}]},{\"Name\":\"Section\",\"DimensionName\":\"RLXBISection\",\"UseTableRelations\":0,\"DimensionRelations\":[{\"Name\":\"RLXBISectionView\",\"DimensionAttribute\":\"Key\",\"Constraints\":[{\"Name\":\"RLXSectionKey\",\"Field\":\"Key\",\"RelatedField\":\"RLXSectionKey\"}]}]},{\"Name\":\"Dimension1\",\"DimensionName\":\"RLXBIDimension1\",\"UseTableRelations\":0,\"DimensionRelations\":[{\"Name\":\"RLXBIDimension1View\",\"DimensionAttribute\":\"Key\",\"Constraints\":[{\"Name\":\"RLXDimension1Key\",\"Field\":\"Key\",\"RelatedField\":\"RLXDimension1Key\"}]}]},{\"Name\":\"Dimension2\",\"DimensionName\":\"RLXBIDimension2\",\"UseTableRelations\":0,\"DimensionRelations\":[{\"Name\":\"RLXBIDimension2View\",\"DimensionAttribute\":\"Key\",\"Constraints\":[{\"Name\":\"RLXDimension2Key\",\"Field\":\"Key\",\"RelatedField\":\"RLXDimension2Key\"}]}]},{\"Name\":\"Dimension3\",\"DimensionName\":\"RLXBIDimension3\",\"UseTableRelations\":0,\"DimensionRelations\":[{\"Name\":\"RLXBIDimension3View\",\"DimensionAttribute\":\"Key\",\"Constraints\":[{\"Name\":\"RLXDimension3Key\",\"Field\":\"Key\",\"RelatedField\":\"RLXDimension3Key\"}]}]},{\"Name\":\"Dimension4\",\"DimensionName\":\"RLXBIDimension4\",\"UseTableRelations\":0,\"DimensionRelations\":[{\"Name\":\"RLXBIDimension4View\",\"DimensionAttribute\":\"Key\",\"Constraints\":[{\"Name\":\"RLXDimension4Key\",\"Field\":\"Key\",\"RelatedField\":\"RLXDimension4Key\"}]}]},{\"Name\":\"Dimension5\",\"DimensionName\":\"RLXBIDimension5\",\"UseTableRelations\":0,\"DimensionRelations\":[{\"Name\":\"RLXBIDimension5View\",\"DimensionAttribute\":\"Key\",\"Constraints\":[{\"Name\":\"RLXDimension5Key\",\"Field\":\"Key\",\"RelatedField\":\"RLXDimension5Key\"}]}]},{\"Name\":\"Dimension6\",\"DimensionName\":\"RLXBIDimension6\",\"UseTableRelations\":0,\"DimensionRelations\":[{\"Name\":\"RLXBIDimension6View\",\"DimensionAttribute\":\"Key\",\"Constraints\":[{\"Name\":\"RLXDimension6Key\",\"Field\":\"Key\",\"RelatedField\":\"RLXDimension6Key\"}]}]},{\"Name\":\"Dimension7\",\"DimensionName\":\"RLXBIDimension7\",\"UseTableRelations\":0,\"DimensionRelations\":[{\"Name\":\"RLXBIDimension7View\",\"DimensionAttribute\":\"Key\",\"Constraints\":[{\"Name\":\"RLXDimension7Key\",\"Field\":\"Key\",\"RelatedField\":\"RLXDimension7Key\"}]}]},{\"Name\":\"Dimension8\",\"DimensionName\":\"RLXBIDimension8\",\"UseTableRelations\":0,\"DimensionRelations\":[{\"Name\":\"RLXBIDimension8View\",\"DimensionAttribute\":\"Key\",\"Constraints\":[{\"Name\":\"RLXDimension8Key\",\"Field\":\"Key\",\"RelatedField\":\"RLXDimension8Key\"}]}]},{\"Name\":\"Dimension9\",\"DimensionName\":\"RLXBIDimension9\",\"UseTableRelations\":0,\"DimensionRelations\":[{\"Name\":\"RLXBIDimension9View\",\"DimensionAttribute\":\"Key\",\"Constraints\":[{\"Name\":\"RLXDimension9Key\",\"Field\":\"Key\",\"RelatedField\":\"RLXDimension9Key\"}]}]},{\"Name\":\"Dimension10\",\"DimensionName\":\"RLXBIDimension10\",\"UseTableRelations\":0,\"DimensionRelations\":[{\"Name\":\"RLXBIDimension10View\",\"DimensionAttribute\":\"Key\",\"Constraints\":[{\"Name\":\"RLXDimension10Key\",\"Field\":\"Key\",\"RelatedField\":\"RLXDimension10Key\"}]}]}],\"Measures\":[{\"Name\":\"AccountingCurrencyAmount\",\"Field\":\"AccountingCurrencyAmount\",\"DefaultAggregate\":0},{\"Name\":\"Price\",\"Field\":\"Price\",\"DefaultAggregate\":0},{\"Name\":\"Quantity\",\"Field\":\"Quantity\",\"DefaultAggregate\":0},{\"Name\":\"TransactionCurrencyAmount\",\"Field\":\"TransactionCurrencyAmount\",\"DefaultAggregate\":0}]},{\"Name\":\"BudgetTransactions\",\"Table\":\"RLXBIBudgetTransLineView\",\"Attributes\":[{\"Name\":\"CurrencyCode\",\"NameField\":\"CurrencyCode\",\"KeyFields\":[{\"DimensionField\":\"CurrencyCode\"}]},{\"Name\":\"TransDate\",\"NameField\":\"TransDate\",\"KeyFields\":[{\"DimensionField\":\"TransDate\"}]}],\"CalculatedMeasures\":[],\"Dimensions\":[{\"Name\":\"BudgetModel\",\"DimensionName\":\"RLXBIBudgetModelTableDim\",\"UseTableRelations\":0,\"DimensionRelations\":[{\"Name\":\"RLXBIBudgetModelView\",\"DimensionAttribute\":\"PBIKey\",\"Constraints\":[{\"Name\":\"BudgetModelPBIKey\",\"Field\":\"PBIKey\",\"RelatedField\":\"BudgetModelPBIKey\"}]}]},{\"Name\":\"Currency\",\"DimensionName\":\"Currency\",\"UseTableRelations\":0,\"DimensionRelations\":[{\"Name\":\"BICurrencyView\",\"DimensionAttribute\":\"Currency\",\"Constraints\":[{\"Name\":\"CurrencyCode\",\"Field\":\"CurrencyCode\",\"RelatedField\":\"CurrencyCode\"}]}]},{\"Name\":\"PostingDate\",\"DimensionName\":\"RLXBIDateDim\",\"DimensionRelations\":[{\"Name\":\"RLXBIDateDimensionValueView\",\"DimensionAttribute\":\"Date_\",\"Constraints\":[{\"Name\":\"TransDate\",\"Field\":\"BIDate\",\"RelatedField\":\"TransDate\"}]}]}],\"Measures\":[{\"Name\":\"BudgetAmountCur\",\"Field\":\"AmountCur\",\"DefaultAggregate\":0},{\"Name\":\"BudgetAmountMST\",\"Field\":\"AmountMST\",\"DefaultAggregate\":0}]},{\"Name\":\"GeneralJournalAccountEntry\",\"Table\":\"RLXBIGeneralJournalAccEntryView\",\"Label\":\"RLX BI Ledger Cube\",\"Attributes\":[{\"Name\":\"CustInvoice\",\"NameField\":\"CustInvoice\",\"KeyFields\":[{\"DimensionField\":\"CustInvoice\"}]},{\"Name\":\"DataArea\",\"NameField\":\"DataArea\",\"KeyFields\":[{\"DimensionField\":\"DataArea\"}]},{\"Name\":\"Description\",\"NameField\":\"Text\",\"KeyFields\":[{\"DimensionField\":\"Text\"}]},{\"Name\":\"IsCredit\",\"NameField\":\"IsCredit\",\"KeyFields\":[{\"DimensionField\":\"IsCredit\"}]},{\"Name\":\"JournalNumber\",\"NameField\":\"JournalNumber\",\"KeyFields\":[{\"DimensionField\":\"JournalNumber\"}]},{\"Name\":\"PostingLayer\",\"NameField\":\"PostingLayer\",\"KeyFields\":[{\"DimensionField\":\"PostingLayer\"}]},{\"Name\":\"PostingType\",\"NameField\":\"PostingType\",\"KeyFields\":[{\"DimensionField\":\"PostingType\"}]},{\"Name\":\"VendInvoice\",\"NameField\":\"VendInvoice\",\"KeyFields\":[{\"DimensionField\":\"VendInvoice\"}]},{\"Name\":\"Voucher\",\"NameField\":\"SubledgerVoucher\",\"KeyFields\":[{\"DimensionField\":\"SubledgerVoucher\"}]}],\"CalculatedMeasures\":[],\"Dimensions\":[{\"Name\":\"AccountingDate\",\"DimensionName\":\"RLXBIDateDim\",\"DimensionRelations\":[{\"Name\":\"RLXBIDateDimensionValueView\",\"DimensionAttribute\":\"Date_\",\"Constraints\":[{\"Name\":\"AccountingDate\",\"Field\":\"BIDate\",\"RelatedField\":\"AccountingDate\"}]}]},{\"Name\":\"Currency\",\"DimensionName\":\"Currency\",\"UseTableRelations\":0,\"DimensionRelations\":[{\"Name\":\"BICurrencyView\",\"DimensionAttribute\":\"Currency\",\"Constraints\":[{\"Name\":\"TransactionCurrencyCode\",\"Field\":\"CurrencyCode\",\"RelatedField\":\"TransactionCurrencyCode\"}]}]},{\"Name\":\"Customer\",\"DimensionName\":\"RLXBICustTableDim\",\"UseTableRelations\":0,\"DimensionRelations\":[{\"Name\":\"RLXBICustTableView\",\"DimensionAttribute\":\"PBIKey\",\"Constraints\":[{\"Name\":\"CustomerPBIKey\",\"Field\":\"PBIKey\",\"RelatedField\":\"CustomerPBIKey\"}]}]},{\"Name\":\"DocumentDate\",\"DimensionName\":\"RLXBIDateDim\",\"UseTableRelations\":0,\"DimensionRelations\":[{\"Name\":\"RLXBIDateDimensionValueView\",\"DimensionAttribute\":\"Date_\",\"Constraints\":[{\"Name\":\"DocumentDate\",\"Field\":\"BIDate\",\"RelatedField\":\"DocumentDate\"}]}]},{\"Name\":\"JournalCategory\",\"DimensionName\":\"RLXBIEnumLedgerTransTypeDim\",\"UseTableRelations\":0,\"DimensionRelations\":[{\"Name\":\"RLXBIEnumLedgerTransTypeView\",\"DimensionAttribute\":\"EnumItemValue\",\"Constraints\":[{\"Name\":\"JournalCategory\",\"Field\":\"EnumItemValue\",\"RelatedField\":\"JournalCategory\"}]}]},{\"Name\":\"MainAccount\",\"DimensionName\":\"RLXBIMainAccountDim\",\"UseTableRelations\":0,\"DimensionRelations\":[{\"Name\":\"RLXBIMainAccountView\",\"DimensionAttribute\":\"MainAccountRecId\",\"Constraints\":[{\"Name\":\"MainAccount\",\"Field\":\"MainAccountRecId\",\"RelatedField\":\"MainAccount\"}]}]},{\"Name\":\"PeriodType\",\"DimensionName\":\"RLXBIEnumFiscalPeriodTypeDim\",\"UseTableRelations\":0,\"DimensionRelations\":[{\"Name\":\"RLXBIEnumFiscalPeriodTypeView\",\"DimensionAttribute\":\"EnumItemValue\",\"Constraints\":[{\"Name\":\"PeriodType\",\"Field\":\"EnumItemValue\",\"RelatedField\":\"PeriodType\"}]}]},{\"Name\":\"PostingType\",\"DimensionName\":\"RLXBIEnumPostingTypeDim\",\"DimensionRelations\":[{\"Name\":\"RLXBIEnumPostingTypeView\",\"DimensionAttribute\":\"EnumItemValue\",\"Constraints\":[{\"Name\":\"PostingType\",\"Field\":\"EnumItemValue\",\"RelatedField\":\"PostingType\"}]}]},{\"Name\":\"Vendor\",\"DimensionName\":\"RLXBIVendTableDim\",\"UseTableRelations\":0,\"DimensionRelations\":[{\"Name\":\"RLXBIVendTableView\",\"DimensionAttribute\":\"PBIKey\",\"Constraints\":[{\"Name\":\"VendorPBIKey\",\"Field\":\"PBIKey\",\"RelatedField\":\"VendorPBIKey\"}]}]},{\"Name\":\"Voucher\",\"DimensionName\":\"RLXBIGeneralJournalEntryVoucherDim\",\"DimensionRelations\":[{\"Name\":\"RLXBIGeneralJournalEntryVoucherView\",\"DimensionAttribute\":\"Voucher\",\"Constraints\":[{\"Name\":\"SubledgerVoucher\",\"Field\":\"Voucher\",\"RelatedField\":\"SubledgerVoucher\"}]}]},{\"Name\":\"Brand\",\"DimensionName\":\"RLXBIBrand\",\"UseTableRelations\":0,\"DimensionRelations\":[{\"Name\":\"RLXBIBrandView\",\"DimensionAttribute\":\"Key\",\"Constraints\":[{\"Name\":\"BrandKey\",\"Field\":\"Key\",\"RelatedField\":\"BrandKey\"}]}]},{\"Name\":\"CostCentre\",\"DimensionName\":\"RLXBICostCentre\",\"UseTableRelations\":0,\"DimensionRelations\":[{\"Name\":\"RLXBICostCentreView\",\"DimensionAttribute\":\"Key\",\"Constraints\":[{\"Name\":\"CostCentreKey\",\"Field\":\"Key\",\"RelatedField\":\"CostCentreKey\"}]}]},{\"Name\":\"Employee\",\"DimensionName\":\"RLXBIEmployee\",\"UseTableRelations\":0,\"DimensionRelations\":[{\"Name\":\"RLXBIEmployeeView\",\"DimensionAttribute\":\"Key\",\"Constraints\":[{\"Name\":\"EmployeeKey\",\"Field\":\"Key\",\"RelatedField\":\"EmployeeKey\"}]}]},{\"Name\":\"Interco\",\"DimensionName\":\"RLXBIInterco\",\"UseTableRelations\":0,\"DimensionRelations\":[{\"Name\":\"RLXBIIntercoView\",\"DimensionAttribute\":\"Key\",\"Constraints\":[{\"Name\":\"IntercoKey\",\"Field\":\"Key\",\"RelatedField\":\"IntercoKey\"}]}]},{\"Name\":\"InternalOrder\",\"DimensionName\":\"RLXBIInternalOrder\",\"UseTableRelations\":0,\"DimensionRelations\":[{\"Name\":\"RLXBIInternalOrderView\",\"DimensionAttribute\":\"Key\",\"Constraints\":[{\"Name\":\"InternalOrderKey\",\"Field\":\"Key\",\"RelatedField\":\"InternalOrderKey\"}]}]},{\"Name\":\"Nature\",\"DimensionName\":\"RLXBINature\",\"UseTableRelations\":0,\"DimensionRelations\":[{\"Name\":\"RLXBINatureView\",\"DimensionAttribute\":\"Key\",\"Constraints\":[{\"Name\":\"NatureKey\",\"Field\":\"Key\",\"RelatedField\":\"NatureKey\"}]}]},{\"Name\":\"Section\",\"DimensionName\":\"RLXBISection\",\"UseTableRelations\":0,\"DimensionRelations\":[{\"Name\":\"RLXBISectionView\",\"DimensionAttribute\":\"Key\",\"Constraints\":[{\"Name\":\"SectionKey\",\"Field\":\"Key\",\"RelatedField\":\"SectionKey\"}]}]},{\"Name\":\"Dimension1\",\"DimensionName\":\"RLXBIDimension1\",\"UseTableRelations\":0,\"DimensionRelations\":[{\"Name\":\"RLXBIDimension1View\",\"DimensionAttribute\":\"Key\",\"Constraints\":[{\"Name\":\"Dimension1Key\",\"Field\":\"Key\",\"RelatedField\":\"Dimension1Key\"}]}]},{\"Name\":\"Dimension2\",\"DimensionName\":\"RLXBIDimension2\",\"UseTableRelations\":0,\"DimensionRelations\":[{\"Name\":\"RLXBIDimension2View\",\"DimensionAttribute\":\"Key\",\"Constraints\":[{\"Name\":\"Dimension2Key\",\"Field\":\"Key\",\"RelatedField\":\"Dimension2Key\"}]}]},{\"Name\":\"Dimension3\",\"DimensionName\":\"RLXBIDimension3\",\"UseTableRelations\":0,\"DimensionRelations\":[{\"Name\":\"RLXBIDimension3View\",\"DimensionAttribute\":\"Key\",\"Constraints\":[{\"Name\":\"Dimension3Key\",\"Field\":\"Key\",\"RelatedField\":\"Dimension3Key\"}]}]},{\"Name\":\"Dimension4\",\"DimensionName\":\"RLXBIDimension4\",\"UseTableRelations\":0,\"DimensionRelations\":[{\"Name\":\"RLXBIDimension4View\",\"DimensionAttribute\":\"Key\",\"Constraints\":[{\"Name\":\"Dimension4Key\",\"Field\":\"Key\",\"RelatedField\":\"Dimension4Key\"}]}]},{\"Name\":\"Dimension5\",\"DimensionName\":\"RLXBIDimension5\",\"UseTableRelations\":0,\"DimensionRelations\":[{\"Name\":\"RLXBIDimension5View\",\"DimensionAttribute\":\"Key\",\"Constraints\":[{\"Name\":\"Dimension5Key\",\"Field\":\"Key\",\"RelatedField\":\"Dimension5Key\"}]}]},{\"Name\":\"Dimension6\",\"DimensionName\":\"RLXBIDimension6\",\"UseTableRelations\":0,\"DimensionRelations\":[{\"Name\":\"RLXBIDimension6View\",\"DimensionAttribute\":\"Key\",\"Constraints\":[{\"Name\":\"Dimension6Key\",\"Field\":\"Key\",\"RelatedField\":\"Dimension6Key\"}]}]},{\"Name\":\"Dimension7\",\"DimensionName\":\"RLXBIDimension7\",\"UseTableRelations\":0,\"DimensionRelations\":[{\"Name\":\"RLXBIDimension7View\",\"DimensionAttribute\":\"Key\",\"Constraints\":[{\"Name\":\"Dimension7Key\",\"Field\":\"Key\",\"RelatedField\":\"Dimension7Key\"}]}]},{\"Name\":\"Dimension8\",\"DimensionName\":\"RLXBIDimension8\",\"UseTableRelations\":0,\"DimensionRelations\":[{\"Name\":\"RLXBIDimension8View\",\"DimensionAttribute\":\"Key\",\"Constraints\":[{\"Name\":\"Dimension8Key\",\"Field\":\"Key\",\"RelatedField\":\"Dimension8Key\"}]}]},{\"Name\":\"Dimension9\",\"DimensionName\":\"RLXBIDimension9\",\"UseTableRelations\":0,\"DimensionRelations\":[{\"Name\":\"RLXBIDimension9View\",\"DimensionAttribute\":\"Key\",\"Constraints\":[{\"Name\":\"Dimension9Key\",\"Field\":\"Key\",\"RelatedField\":\"Dimension9Key\"}]}]},{\"Name\":\"Dimension10\",\"DimensionName\":\"RLXBIDimension10\",\"UseTableRelations\":0,\"DimensionRelations\":[{\"Name\":\"RLXBIDimension10View\",\"DimensionAttribute\":\"Key\",\"Constraints\":[{\"Name\":\"Dimension10Key\",\"Field\":\"Key\",\"RelatedField\":\"Dimension10Key\"}]}]}],\"Measures\":[{\"Name\":\"CreditAmount\",\"Field\":\"CreditAmount\",\"DefaultAggregate\":0},{\"Name\":\"DebitAmount\",\"Field\":\"DebitAmount\",\"DefaultAggregate\":0},{\"Name\":\"GJEAmountCur\",\"Field\":\"AccountingCurrencyAmount\",\"DefaultAggregate\":0},{\"Name\":\"GJEAmountMST\",\"Field\":\"TransactionCurrencyAmount\",\"DefaultAggregate\":0}]},{\"Name\":\"VendorTransactions\",\"Table\":\"RLXBIVendTransView\",\"Attributes\":[{\"Name\":\"Closed\",\"NameField\":\"Closed\",\"KeyFields\":[{\"DimensionField\":\"Closed\"}]},{\"Name\":\"CurrencyCode\",\"NameField\":\"CurrencyCode\",\"KeyFields\":[{\"DimensionField\":\"CurrencyCode\"}]},{\"Name\":\"Invoice\",\"NameField\":\"Invoice\",\"KeyFields\":[{\"DimensionField\":\"Invoice\"}]},{\"Name\":\"TransDate\",\"NameField\":\"TransDate\",\"KeyFields\":[{\"DimensionField\":\"TransDate\"}]},{\"Name\":\"TransType\",\"NameField\":\"TransType\",\"KeyFields\":[{\"DimensionField\":\"TransType\"}]},{\"Name\":\"Txt\",\"NameField\":\"Txt\",\"KeyFields\":[{\"DimensionField\":\"Txt\"}]},{\"Name\":\"VendAccountPBIKey\",\"NameField\":\"VendAccountPBIKey\",\"KeyFields\":[{\"DimensionField\":\"VendAccountPBIKey\"}]}],\"CalculatedMeasures\":[],\"Dimensions\":[{\"Name\":\"Company\",\"DimensionName\":\"Company\",\"DimensionRelations\":[{\"Name\":\"Company\",\"DimensionAttribute\":\"Company\",\"Constraints\":[{\"Name\":\"DataAreaId\",\"Field\":\"id\",\"RelatedField\":\"DataAreaId\"}]}]},{\"Name\":\"Currency\",\"DimensionName\":\"Currency\",\"UseTableRelations\":0,\"DimensionRelations\":[{\"Name\":\"BICurrencyView\",\"DimensionAttribute\":\"Currency\",\"Constraints\":[{\"Name\":\"CurrencyCode\",\"Field\":\"CurrencyCode\",\"RelatedField\":\"CurrencyCode\"}]}]},{\"Name\":\"DocumentDate\",\"DimensionName\":\"RLXBIDateDim\",\"DimensionRelations\":[{\"Name\":\"RLXBIDateDimensionValueView\",\"DimensionAttribute\":\"Date_\",\"Constraints\":[{\"Name\":\"DocumentDate\",\"Field\":\"BIDate\",\"RelatedField\":\"DocumentDate\"}]}]},{\"Name\":\"DueDate\",\"DimensionName\":\"RLXBIDateDim\",\"UseTableRelations\":0,\"DimensionRelations\":[{\"Name\":\"RLXBIDateDimensionValueView\",\"DimensionAttribute\":\"Date_\",\"Constraints\":[{\"Name\":\"DueDate\",\"Field\":\"BIDate\",\"RelatedField\":\"DueDate\"}]}]},{\"Name\":\"PostingDate\",\"DimensionName\":\"RLXBIDateDim\",\"DimensionRelations\":[{\"Name\":\"RLXBIDateDimensionValueView\",\"DimensionAttribute\":\"Date_\",\"Constraints\":[{\"Name\":\"TransDate\",\"Field\":\"BIDate\",\"RelatedField\":\"TransDate\"}]}]},{\"Name\":\"TransType\",\"DimensionName\":\"RLXBIEnumTransTypeDim\",\"UseTableRelations\":0,\"DimensionRelations\":[{\"Name\":\"RLXBIEnumTransTypeView\",\"DimensionAttribute\":\"EnumItemValue\",\"Constraints\":[{\"Name\":\"TransType\",\"Field\":\"EnumItemValue\",\"RelatedField\":\"TransType\"}]}]},{\"Name\":\"Vendor\",\"DimensionName\":\"RLXBIVendTableDim\",\"UseTableRelations\":0,\"DimensionRelations\":[{\"Name\":\"RLXBIVendTableView\",\"DimensionAttribute\":\"PBIKey\",\"Constraints\":[{\"Name\":\"VendAccountPBIKey\",\"Field\":\"PBIKey\",\"RelatedField\":\"VendAccountPBIKey\"}]}]},{\"Name\":\"Voucher\",\"DimensionName\":\"RLXBIGeneralJournalEntryVoucherDim\",\"UseTableRelations\":0,\"DimensionRelations\":[{\"Name\":\"RLXBIGeneralJournalEntryVoucherView\",\"DimensionAttribute\":\"Voucher\",\"Constraints\":[{\"Name\":\"Voucher\",\"Field\":\"Voucher\",\"RelatedField\":\"Voucher\"}]}]}],\"Measures\":[{\"Name\":\"VendAmountCur\",\"Field\":\"AmountCur\",\"DefaultAggregate\":0},{\"Name\":\"VendAmountMST\",\"Field\":\"AmountMST\",\"DefaultAggregate\":0}]},{\"Name\":\"TaxTransactions\",\"Table\":\"RLXBITaxTransView\",\"Attributes\":[],\"CalculatedMeasures\":[],\"Dimensions\":[{\"Name\":\"Company\",\"DimensionName\":\"Company\",\"UseTableRelations\":0,\"DimensionRelations\":[{\"Name\":\"Company\",\"DimensionAttribute\":\"Company\",\"Constraints\":[{\"Name\":\"DataAreaId\",\"Field\":\"id\",\"RelatedField\":\"DataAreaId\"}]}]},{\"Name\":\"PostingDate\",\"DimensionName\":\"RLXBIDateDim\",\"UseTableRelations\":0,\"DimensionRelations\":[{\"Name\":\"RLXBIDateDimensionValueView\",\"DimensionAttribute\":\"Date_\",\"Constraints\":[{\"Name\":\"TransDate\",\"Field\":\"BIDate\",\"RelatedField\":\"TransDate\"}]}]}],\"Measures\":[{\"Name\":\"Measure1\"},{\"Name\":\"Measure2\"}]},{\"Name\":\"MainAccountTranslation\",\"Table\":\"MainAccountTranslation\",\"Attributes\":[{\"Name\":\"MainAccountRecId\",\"NameField\":\"MainAccount\",\"KeyFields\":[{\"DimensionField\":\"MainAccount\"}]},{\"Name\":\"LanguageId\",\"NameField\":\"LanguageId\",\"KeyFields\":[{\"DimensionField\":\"LanguageId\"}]},{\"Name\":\"Name\",\"NameField\":\"Name\",\"KeyFields\":[{\"DimensionField\":\"Name\"}]}],\"CalculatedMeasures\":[],\"Dimensions\":[],\"Measures\":[{\"Name\":\"RecId\",\"Field\":\"RecId\"}]}]\n"
          ]
        }
      ],
      "execution_count": 7,
      "metadata": {
        "collapsed": true,
        "jupyter": {
          "source_hidden": false,
          "outputs_hidden": false
        },
        "nteract": {
          "transient": {
            "deleting": false
          }
        }
      }
    },
    {
      "cell_type": "markdown",
      "source": [
        "## Query Azure Synapse Table\r\n",
        "\r\n",
        "The example below illustrates querying an Azure Synapse Table from Spark using the [SQL Server connector](https://docs.microsoft.com/en-us/sql/connect/spark/connector?view=sql-server-ver15) in the Entity Store SDK."
      ],
      "metadata": {
        "nteract": {
          "transient": {
            "deleting": false
          }
        }
      }
    },
    {
      "cell_type": "code",
      "source": [
        "var query = \"select top(100) * from Weather\";\r\n",
        "\r\n",
        "var df = spark.Read()\r\n",
        "              .Format(\"com.microsoft.sqlserver.jdbc.spark\")\r\n",
        "              .Option(\"url\", sqlPoolConnectionString)\r\n",
        "              .Option(\"driver\", \"com.microsoft.sqlserver.jdbc.SQLServerDriver\")\r\n",
        "              .Option(\"query\", query) //use dbtable for the entire table\r\n",
        "              .Load();\r\n",
        "\r\n",
        "display(df.Head(15));\r\n"
      ],
      "outputs": [],
      "execution_count": 8,
      "metadata": {
        "jupyter": {
          "source_hidden": false,
          "outputs_hidden": false
        },
        "nteract": {
          "transient": {
            "deleting": false
          }
        },
        "collapsed": true
      }
    },
    {
      "cell_type": "markdown",
      "source": [
        "## Join Fact and Dimension Tables in Azure Synapse (Data Cooking)\r\n",
        "\r\n",
        "In the example below, we'll traverse the Measurement Metadata to join fact and dimensions tables using the [SQL Server connector](https://docs.microsoft.com/en-us/sql/connect/spark/connector?view=sql-server-ver15) in the Entity Store SDK."
      ],
      "metadata": {
        "nteract": {
          "transient": {
            "deleting": false
          }
        }
      }
    },
    {
      "cell_type": "code",
      "source": [
        "var entityStoreSdk = new EntityStoreSdk(sqlPoolConnectionString, spark);\r\n",
        "\r\n",
        "try {\r\n",
        "    // Iterate over each MeasureGroup/FactTable.\r\n",
        "    foreach (var measureGroup in measureMetadata[\"MeasureGroups\"])\r\n",
        "    {\r\n",
        "        var selectMeasureGroupnQuery = $\"SELECT \";\r\n",
        "        foreach (var attribute in measureGroup[\"Attributes\"])\r\n",
        "        {\r\n",
        "            selectMeasureGroupnQuery += $\"MG.{attribute[\"KeyFields\"][0][\"DimensionField\"]}, \";\r\n",
        "        }\r\n",
        "\r\n",
        "        var joinQuery = string.Empty;\r\n",
        "        int count = 1;\r\n",
        "        foreach (var dimension in measureGroup[\"Dimensions\"])\r\n",
        "        {\r\n",
        "            foreach (var dimensionRelation in dimension[\"DimensionRelations\"])\r\n",
        "            {\r\n",
        "                selectMeasureGroupnQuery += $\"MG.{dimensionRelation[\"Constraints\"][0][\"RelatedField\"]}, \";\r\n",
        "\r\n",
        "                joinQuery += $\" INNER JOIN {measureMetadata[\"Name\"]}_{dimension[\"Name\"]} AS D{count} ON MG.{dimensionRelation[\"Constraints\"][0][\"RelatedField\"]} = D{count}.{entityStoreSdk.ConvertReservedWords(dimensionRelation[\"DimensionAttribute\"])}\";\r\n",
        "                count++;\r\n",
        "            }\r\n",
        "        }\r\n",
        "\r\n",
        "        selectMeasureGroupnQuery = selectMeasureGroupnQuery.Remove(selectMeasureGroupnQuery.Length - 2);\r\n",
        "        selectMeasureGroupnQuery += $\" FROM [DBO].[{measureGroup[\"Table\"]}] AS MG\";\r\n",
        "        selectMeasureGroupnQuery += joinQuery;\r\n",
        "\r\n",
        "        Console.WriteLine($\"Executing query: {selectMeasureGroupnQuery.ToString()}\\n\");\r\n",
        "\r\n",
        "        var starSchemaDf = entityStoreSdk.QueryTable(selectMeasureGroupnQuery.ToString());\r\n",
        "\r\n",
        "        display(starSchemaDf);\r\n",
        "\r\n",
        "        // Implicit write\r\n",
        "        /*starSchemaDf.Write().Format(\"com.microsoft.cdm\")\r\n",
        "        .Option(\"storage\", dataLakeConnectionInfo.StorageAccountName + \".dfs.core.windows.net\")\r\n",
        "        .Option(\"manifestPath\", dataLakeConnectionInfo.Container + $\"/{measureGroup[\"Table\"].ToString()}/default.manifest.cdm.json\")\r\n",
        "        .Option(\"entity\", $\"{measureGroup[\"Table\"].ToString()}\")\r\n",
        "        .Option(\"format\", \"csv\")\r\n",
        "        .Mode(SaveMode.Overwrite)\r\n",
        "        .Save();*/\r\n",
        "    }\r\n",
        "}\r\n",
        "catch ( Exception ex ) {\r\n",
        "    Console.WriteLine($\"Error processing aggregate measurement: {measureMetadata[\"Name\"].ToString()} \\n {ex.Message}\");\r\n",
        "}\r\n"
      ],
      "outputs": [
        {
          "output_type": "display_data",
          "data": {
            "application/vnd.livy.statement-meta+json": {
              "spark_pool": "patc6sx8767zd5k",
              "session_id": 44,
              "statement_id": 15,
              "state": "finished",
              "livy_statement_state": "available",
              "queued_time": "2021-09-06T20:30:19.0574808Z",
              "session_start_time": null,
              "execution_start_time": "2021-09-06T20:30:19.1782269Z",
              "execution_finish_time": "2021-09-06T20:30:19.3285846Z"
            },
            "text/plain": "StatementMeta(patc6sx8767zd5k, 44, 15, Finished, Available)"
          },
          "metadata": {}
        },
        {
          "output_type": "stream",
          "name": "stdout",
          "text": [
            "Executing query: SELECT MG.AmountType, MG.BudgetCode, MG.BudgetType, MG.Comment, MG.EntryNumber, MG.RLXTransactionStatus, MG.RLXBudgetModelPBIKey, MG.LegalEntityId, MG.CurrencyCode, MG.RLXMainAccountKey, MG.Date, MG.RLXBrandKey, MG.RLXCostCentreKey, MG.RLXEmployeeKey, MG.RLXIntercoKey, MG.RLXInternalOrderKey, MG.RLXNatureKey, MG.RLXSectionKey, MG.RLXDimension1Key, MG.RLXDimension2Key, MG.RLXDimension3Key, MG.RLXDimension4Key, MG.RLXDimension5Key, MG.RLXDimension6Key, MG.RLXDimension7Key, MG.RLXDimension8Key, MG.RLXDimension9Key, MG.RLXDimension10Key FROM [DBO].[BudgetRegisterEntryEntity] AS MG INNER JOIN RLXBILedgerCube_BudgetModel AS D1 ON MG.RLXBudgetModelPBIKey = D1.PBIKey INNER JOIN RLXBILedgerCube_Company AS D2 ON MG.LegalEntityId = D2.Company INNER JOIN RLXBILedgerCube_Currency AS D3 ON MG.CurrencyCode = D3.Currency INNER JOIN RLXBILedgerCube_MainAccount AS D4 ON MG.RLXMainAccountKey = D4.MainAccountRecId INNER JOIN RLXBILedgerCube_PostingDate AS D5 ON MG.Date = D5.Date_ INNER JOIN RLXBILedgerCube_Brand AS D6 ON MG.RLXBrandKey = D6.Key_ INNER JOIN RLXBILedgerCube_CostCentre AS D7 ON MG.RLXCostCentreKey = D7.Key_ INNER JOIN RLXBILedgerCube_Employee AS D8 ON MG.RLXEmployeeKey = D8.Key_ INNER JOIN RLXBILedgerCube_Interco AS D9 ON MG.RLXIntercoKey = D9.Key_ INNER JOIN RLXBILedgerCube_InternalOrder AS D10 ON MG.RLXInternalOrderKey = D10.Key_ INNER JOIN RLXBILedgerCube_Nature AS D11 ON MG.RLXNatureKey = D11.Key_ INNER JOIN RLXBILedgerCube_Section AS D12 ON MG.RLXSectionKey = D12.Key_ INNER JOIN RLXBILedgerCube_Dimension1 AS D13 ON MG.RLXDimension1Key = D13.Key_ INNER JOIN RLXBILedgerCube_Dimension2 AS D14 ON MG.RLXDimension2Key = D14.Key_ INNER JOIN RLXBILedgerCube_Dimension3 AS D15 ON MG.RLXDimension3Key = D15.Key_ INNER JOIN RLXBILedgerCube_Dimension4 AS D16 ON MG.RLXDimension4Key = D16.Key_ INNER JOIN RLXBILedgerCube_Dimension5 AS D17 ON MG.RLXDimension5Key = D17.Key_ INNER JOIN RLXBILedgerCube_Dimension6 AS D18 ON MG.RLXDimension6Key = D18.Key_ INNER JOIN RLXBILedgerCube_Dimension7 AS D19 ON MG.RLXDimension7Key = D19.Key_ INNER JOIN RLXBILedgerCube_Dimension8 AS D20 ON MG.RLXDimension8Key = D20.Key_ INNER JOIN RLXBILedgerCube_Dimension9 AS D21 ON MG.RLXDimension9Key = D21.Key_ INNER JOIN RLXBILedgerCube_Dimension10 AS D22 ON MG.RLXDimension10Key = D22.Key_\n",
            "\n",
            "Executing query: SELECT MG.CurrencyCode, MG.TransDate, MG.BudgetModelPBIKey, MG.CurrencyCode, MG.TransDate FROM [DBO].[RLXBIBudgetTransLineView] AS MG INNER JOIN RLXBILedgerCube_BudgetModel AS D1 ON MG.BudgetModelPBIKey = D1.PBIKey INNER JOIN RLXBILedgerCube_Currency AS D2 ON MG.CurrencyCode = D2.Currency INNER JOIN RLXBILedgerCube_PostingDate AS D3 ON MG.TransDate = D3.Date_\n",
            "\n",
            "Executing query: SELECT MG.CustInvoice, MG.DataArea, MG.Text, MG.IsCredit, MG.JournalNumber, MG.PostingLayer, MG.PostingType, MG.VendInvoice, MG.SubledgerVoucher, MG.AccountingDate, MG.TransactionCurrencyCode, MG.CustomerPBIKey, MG.DocumentDate, MG.JournalCategory, MG.MainAccount, MG.PeriodType, MG.PostingType, MG.VendorPBIKey, MG.SubledgerVoucher, MG.BrandKey, MG.CostCentreKey, MG.EmployeeKey, MG.IntercoKey, MG.InternalOrderKey, MG.NatureKey, MG.SectionKey, MG.Dimension1Key, MG.Dimension2Key, MG.Dimension3Key, MG.Dimension4Key, MG.Dimension5Key, MG.Dimension6Key, MG.Dimension7Key, MG.Dimension8Key, MG.Dimension9Key, MG.Dimension10Key FROM [DBO].[RLXBIGeneralJournalAccEntryView] AS MG INNER JOIN RLXBILedgerCube_AccountingDate AS D1 ON MG.AccountingDate = D1.Date_ INNER JOIN RLXBILedgerCube_Currency AS D2 ON MG.TransactionCurrencyCode = D2.Currency INNER JOIN RLXBILedgerCube_Customer AS D3 ON MG.CustomerPBIKey = D3.PBIKey INNER JOIN RLXBILedgerCube_DocumentDate AS D4 ON MG.DocumentDate = D4.Date_ INNER JOIN RLXBILedgerCube_JournalCategory AS D5 ON MG.JournalCategory = D5.EnumItemValue INNER JOIN RLXBILedgerCube_MainAccount AS D6 ON MG.MainAccount = D6.MainAccountRecId INNER JOIN RLXBILedgerCube_PeriodType AS D7 ON MG.PeriodType = D7.EnumItemValue INNER JOIN RLXBILedgerCube_PostingType AS D8 ON MG.PostingType = D8.EnumItemValue INNER JOIN RLXBILedgerCube_Vendor AS D9 ON MG.VendorPBIKey = D9.PBIKey INNER JOIN RLXBILedgerCube_Voucher AS D10 ON MG.SubledgerVoucher = D10.Voucher INNER JOIN RLXBILedgerCube_Brand AS D11 ON MG.BrandKey = D11.Key_ INNER JOIN RLXBILedgerCube_CostCentre AS D12 ON MG.CostCentreKey = D12.Key_ INNER JOIN RLXBILedgerCube_Employee AS D13 ON MG.EmployeeKey = D13.Key_ INNER JOIN RLXBILedgerCube_Interco AS D14 ON MG.IntercoKey = D14.Key_ INNER JOIN RLXBILedgerCube_InternalOrder AS D15 ON MG.InternalOrderKey = D15.Key_ INNER JOIN RLXBILedgerCube_Nature AS D16 ON MG.NatureKey = D16.Key_ INNER JOIN RLXBILedgerCube_Section AS D17 ON MG.SectionKey = D17.Key_ INNER JOIN RLXBILedgerCube_Dimension1 AS D18 ON MG.Dimension1Key = D18.Key_ INNER JOIN RLXBILedgerCube_Dimension2 AS D19 ON MG.Dimension2Key = D19.Key_ INNER JOIN RLXBILedgerCube_Dimension3 AS D20 ON MG.Dimension3Key = D20.Key_ INNER JOIN RLXBILedgerCube_Dimension4 AS D21 ON MG.Dimension4Key = D21.Key_ INNER JOIN RLXBILedgerCube_Dimension5 AS D22 ON MG.Dimension5Key = D22.Key_ INNER JOIN RLXBILedgerCube_Dimension6 AS D23 ON MG.Dimension6Key = D23.Key_ INNER JOIN RLXBILedgerCube_Dimension7 AS D24 ON MG.Dimension7Key = D24.Key_ INNER JOIN RLXBILedgerCube_Dimension8 AS D25 ON MG.Dimension8Key = D25.Key_ INNER JOIN RLXBILedgerCube_Dimension9 AS D26 ON MG.Dimension9Key = D26.Key_ INNER JOIN RLXBILedgerCube_Dimension10 AS D27 ON MG.Dimension10Key = D27.Key_\n",
            "\n",
            "Executing query: SELECT MG.Closed, MG.CurrencyCode, MG.Invoice, MG.TransDate, MG.TransType, MG.Txt, MG.VendAccountPBIKey, MG.DataAreaId, MG.CurrencyCode, MG.DocumentDate, MG.DueDate, MG.TransDate, MG.TransType, MG.VendAccountPBIKey, MG.Voucher FROM [DBO].[RLXBIVendTransView] AS MG INNER JOIN RLXBILedgerCube_Company AS D1 ON MG.DataAreaId = D1.Company INNER JOIN RLXBILedgerCube_Currency AS D2 ON MG.CurrencyCode = D2.Currency INNER JOIN RLXBILedgerCube_DocumentDate AS D3 ON MG.DocumentDate = D3.Date_ INNER JOIN RLXBILedgerCube_DueDate AS D4 ON MG.DueDate = D4.Date_ INNER JOIN RLXBILedgerCube_PostingDate AS D5 ON MG.TransDate = D5.Date_ INNER JOIN RLXBILedgerCube_TransType AS D6 ON MG.TransType = D6.EnumItemValue INNER JOIN RLXBILedgerCube_Vendor AS D7 ON MG.VendAccountPBIKey = D7.PBIKey INNER JOIN RLXBILedgerCube_Voucher AS D8 ON MG.Voucher = D8.Voucher\n",
            "\n",
            "Executing query: SELECT MG.DataAreaId, MG.TransDate FROM [DBO].[RLXBITaxTransView] AS MG INNER JOIN RLXBILedgerCube_Company AS D1 ON MG.DataAreaId = D1.Company INNER JOIN RLXBILedgerCube_PostingDate AS D2 ON MG.TransDate = D2.Date_\n",
            "\n",
            "Executing query: SELECT MG.MainAccount, MG.LanguageId, MG.Name FROM [DBO].[MainAccountTranslation] AS MG\n",
            "\n"
          ]
        }
      ],
      "execution_count": 15,
      "metadata": {
        "jupyter": {
          "source_hidden": false,
          "outputs_hidden": false
        },
        "nteract": {
          "transient": {
            "deleting": false
          }
        },
        "collapsed": true
      }
    },
    {
      "cell_type": "markdown",
      "source": [
        "## Store Results in Azure Synapse SQL (Dedicated Server)\r\n",
        "\r\n",
        "Azure Synapse team recommends using the [\"synapsesql\" connector](https://docs.microsoft.com/en-us/azure/synapse-analytics/spark/synapse-spark-sql-pool-import-export#use-pyspark-with-the-connector) to read/write data from Azure Synapse SQL.\r\n",
        "This connector is currently only available in Scala, so in order to use it we'll have to first store the Dataframe as a temp view (Hive Table),\r\n",
        "then use the connector in Scala to write the temp table into Azure Synapse like the cells below.\r\n",
        "\r\n",
        "Please notice that you must grant \"Storage Blob Data Contributor\" right in the storage account used by the Azure Synapse workspace.\r\n",
        "See the [documentation](https://docs.microsoft.com/en-us/azure/synapse-analytics/spark/synapse-spark-sql-pool-import-export#use-pyspark-with-the-connector) for more details.\r\n",
        "\r\n"
      ],
      "metadata": {
        "nteract": {
          "transient": {
            "deleting": false
          }
        }
      }
    },
    {
      "cell_type": "code",
      "source": [
        "df.CreateOrReplaceTempView(\"DestinationWeatherTable\");"
      ],
      "outputs": [],
      "execution_count": 9,
      "metadata": {
        "jupyter": {
          "source_hidden": false,
          "outputs_hidden": false
        },
        "nteract": {
          "transient": {
            "deleting": false
          }
        },
        "collapsed": true
      }
    },
    {
      "cell_type": "code",
      "source": [
        "%%spark\r\n",
        "val scala_df = spark.sqlContext.sql (\"select * from DestinationWeatherTable\")\r\n",
        "\r\n",
        "scala_df.write.\r\n",
        "option(Constants.SERVER, \"synapsews-dev-westus2-c30d4.database.windows.net\").\r\n",
        "synapsesql(\"SampleSQL.dbo.DestinationWeatherTable\", Constants.INTERNAL)"
      ],
      "outputs": [],
      "execution_count": 10,
      "metadata": {
        "jupyter": {
          "source_hidden": false,
          "outputs_hidden": false
        },
        "nteract": {
          "transient": {
            "deleting": false
          }
        },
        "microsoft": {
          "language": "scala"
        },
        "collapsed": true
      }
    },
    {
      "cell_type": "markdown",
      "source": [
        "## Store Results in the Data Lake in CDM Format\r\n",
        "\r\n",
        "You can use CDM Spark Connector to write the contents of the DataFrame using [CDM Spark](https://github.com/Azure/spark-cdm-connector) connector:\r\n",
        "\r\n",
        "1. Download the latest CDM Spark connector jar e.g. spark-cdm-connector-assembly-0.19.1.jar\r\n",
        "2. Upload the package in the workspace following these [instructions](https://docs.microsoft.com/en-us/azure/synapse-analytics/spark/apache-spark-manage-scala-packages).\r\n",
        "3. Install the package in the Spark Pool in the notebook (or in all Spark Pools by default)\r\n",
        "\r\n",
        "\r\n"
      ],
      "metadata": {
        "nteract": {
          "transient": {
            "deleting": false
          }
        }
      }
    },
    {
      "cell_type": "code",
      "source": [
        "// See examples in https://github.com/Azure/spark-cdm-connector/blob/master/samples/SparkCDMsample.scala\r\n",
        "\r\n",
        "// Implicit write\r\n",
        "df.Write().Format(\"com.microsoft.cdm\")\r\n",
        "  .Option(\"storage\", dataLakeConnectionInfo.StorageAccountName + \".dfs.core.windows.net\")\r\n",
        "  .Option(\"manifestPath\", dataLakeConnectionInfo.Container + \"/nestedImplicit/default.manifest.cdm.json\")\r\n",
        "  .Option(\"entity\", \"NestedExampleImplicit\")\r\n",
        "  .Option(\"format\", \"parquet\")\r\n",
        "  .Mode(SaveMode.Append)\r\n",
        "  .Save();"
      ],
      "outputs": [],
      "execution_count": null,
      "metadata": {
        "jupyter": {
          "source_hidden": false,
          "outputs_hidden": false
        },
        "nteract": {
          "transient": {
            "deleting": false
          }
        },
        "collapsed": true
      }
    }
  ],
  "metadata": {
    "kernelspec": {
      "name": "synapse_sparkdotnet",
      "language": "C#",
      "display_name": "Synapse SparkDotNet"
    },
    "language_info": {
      "name": "csharp"
    },
    "kernel_info": {
      "name": "synapse_sparkdotnet"
    },
    "save_output": false,
    "synapse_widget": {
      "version": "0.1",
      "state": {}
    }
  },
  "nbformat": 4,
  "nbformat_minor": 2
}